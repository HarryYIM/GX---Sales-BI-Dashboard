{
 "cells": [
  {
   "cell_type": "code",
   "execution_count": 1,
   "metadata": {
    "ExecuteTime": {
     "end_time": "2020-12-31T08:15:26.844448Z",
     "start_time": "2020-12-31T08:15:26.404626Z"
    }
   },
   "outputs": [],
   "source": [
    "import pandas as pd\n",
    "import numpy as np\n",
    "import re\n",
    "import warnings\n",
    "warnings.filterwarnings(\"ignore\")\n",
    "from datetime import datetime"
   ]
  },
  {
   "cell_type": "code",
   "execution_count": 2,
   "metadata": {
    "ExecuteTime": {
     "end_time": "2020-12-31T08:15:26.855420Z",
     "start_time": "2020-12-31T08:15:26.845445Z"
    }
   },
   "outputs": [
    {
     "data": {
      "text/plain": [
       "'C:\\\\Users\\\\ygy91\\\\Desktop\\\\GX sales report'"
      ]
     },
     "execution_count": 2,
     "metadata": {},
     "output_type": "execute_result"
    }
   ],
   "source": [
    "pwd"
   ]
  },
  {
   "cell_type": "code",
   "execution_count": 3,
   "metadata": {
    "ExecuteTime": {
     "end_time": "2020-12-31T08:15:27.726834Z",
     "start_time": "2020-12-31T08:15:26.857415Z"
    }
   },
   "outputs": [],
   "source": [
    "# import data\n",
    "histo_folder = ['2020 sales']\n",
    "month = ['Jan','Feb','Mar','Apr','May','Jun','Jul','Aug','Sep','Oct','Nov','Dec']\n",
    "\n",
    "temp = []\n",
    "for i in month:\n",
    "    temp.append(pd.read_csv(f'2020 sales//{i}.csv'))\n",
    "df = pd.concat(temp).reset_index(drop = True)"
   ]
  },
  {
   "cell_type": "code",
   "execution_count": 4,
   "metadata": {
    "ExecuteTime": {
     "end_time": "2020-12-31T08:15:27.798159Z",
     "start_time": "2020-12-31T08:15:27.727832Z"
    }
   },
   "outputs": [],
   "source": [
    "cate = pd.read_excel('sup source//category.xlsx', sheet_name = 'Category')"
   ]
  },
  {
   "cell_type": "code",
   "execution_count": 5,
   "metadata": {
    "ExecuteTime": {
     "end_time": "2020-12-31T08:15:27.803147Z",
     "start_time": "2020-12-31T08:15:27.799158Z"
    }
   },
   "outputs": [],
   "source": [
    "# drop unneeded columns\n",
    "col_drop = ['Warehouse Name', 'Must Ship By', 'Backorder Date', 'Shipping Account Number', 'Ship To Address', 'Ship To Address 2',\n",
    "            'Ship To Zip', 'Ship To Phone', 'Inventory Send Date', 'Registered Timestamp', 'Customization Text', 'Event Name',\n",
    "            'Event ID', 'Event Start Date', 'Event End Date', 'Event Type', 'Backorder Reason', 'Original Product ID', \n",
    "            'Original Product Name', 'Event Inventory Source', 'Packing Slip URL', 'Tracking Number', 'Ready for Pickup Date',\n",
    "            'Destination Country', 'Depot ID', 'Depot Name', 'Wholesale Event Source', 'Wholesale Event Store Source', \n",
    "            'Composite Wood Product', 'Sales Channel']"
   ]
  },
  {
   "cell_type": "code",
   "execution_count": 6,
   "metadata": {
    "ExecuteTime": {
     "end_time": "2020-12-31T08:15:27.835061Z",
     "start_time": "2020-12-31T08:15:27.804144Z"
    }
   },
   "outputs": [],
   "source": [
    "df.drop(col_drop, axis = 1, inplace = True)"
   ]
  },
  {
   "cell_type": "code",
   "execution_count": 7,
   "metadata": {
    "ExecuteTime": {
     "end_time": "2020-12-31T08:15:31.442269Z",
     "start_time": "2020-12-31T08:15:27.837057Z"
    },
    "scrolled": false
   },
   "outputs": [],
   "source": [
    "# Date Cleaning\n",
    "date_col = ['PO Date', 'Must Ship By', 'Backorder Date']\n",
    "\n",
    "df['PO Date'] = df.apply(lambda x: datetime.strptime(x['PO Date'],'%m/%d/%Y'), axis = 1)\n",
    "df['Month'] = df.apply(lambda x: x['PO Date'].month, axis = 1)"
   ]
  },
  {
   "cell_type": "code",
   "execution_count": 8,
   "metadata": {
    "ExecuteTime": {
     "end_time": "2020-12-31T08:15:31.540644Z",
     "start_time": "2020-12-31T08:15:31.443257Z"
    },
    "scrolled": true
   },
   "outputs": [],
   "source": [
    "# add category\n",
    "df = df.merge(cate[['Item Name', 'Category']], on = 'Item Name', how = 'left')"
   ]
  },
  {
   "cell_type": "code",
   "execution_count": 9,
   "metadata": {
    "ExecuteTime": {
     "end_time": "2020-12-31T08:15:32.999350Z",
     "start_time": "2020-12-31T08:15:31.541642Z"
    }
   },
   "outputs": [],
   "source": [
    "# clean Item Number\n",
    "df['Item Number'] = df.apply(lambda x: x['Item Number'][2:-1], axis = 1)"
   ]
  },
  {
   "cell_type": "code",
   "execution_count": 10,
   "metadata": {
    "ExecuteTime": {
     "end_time": "2020-12-31T08:15:33.041228Z",
     "start_time": "2020-12-31T08:15:33.000337Z"
    }
   },
   "outputs": [],
   "source": [
    "# clean PO Date & Time\n",
    "df['PO Time'] = df['PO Date & Time'].str[11:13]"
   ]
  },
  {
   "cell_type": "markdown",
   "metadata": {},
   "source": [
    "---"
   ]
  },
  {
   "cell_type": "code",
   "execution_count": 11,
   "metadata": {
    "ExecuteTime": {
     "end_time": "2020-12-31T08:15:33.053197Z",
     "start_time": "2020-12-31T08:15:33.042226Z"
    }
   },
   "outputs": [],
   "source": [
    "# process product info\n",
    "\n",
    "df_pi = pd.read_csv('sup source//product info.csv')"
   ]
  },
  {
   "cell_type": "code",
   "execution_count": 12,
   "metadata": {
    "ExecuteTime": {
     "end_time": "2020-12-31T08:15:33.084114Z",
     "start_time": "2020-12-31T08:15:33.054194Z"
    }
   },
   "outputs": [],
   "source": [
    "df_pi['review & rating'] = df_pi.apply(lambda x: str(x['rating']).strip(str(x['Item Name'])), axis = 1)"
   ]
  },
  {
   "cell_type": "code",
   "execution_count": 13,
   "metadata": {
    "ExecuteTime": {
     "end_time": "2020-12-31T08:15:33.090100Z",
     "start_time": "2020-12-31T08:15:33.086108Z"
    }
   },
   "outputs": [],
   "source": [
    "p = re.compile(r'[(](.*?)[)]', re.S)"
   ]
  },
  {
   "cell_type": "code",
   "execution_count": 14,
   "metadata": {
    "ExecuteTime": {
     "end_time": "2020-12-31T08:15:33.125004Z",
     "start_time": "2020-12-31T08:15:33.092094Z"
    }
   },
   "outputs": [],
   "source": [
    "df_pi['Review'] = df_pi.apply(lambda x: 0\n",
    "                        if re.findall(p, x['review & rating']) == [] \n",
    "                        else re.findall(p, x['review & rating'])[0], axis =1 )"
   ]
  },
  {
   "cell_type": "code",
   "execution_count": 15,
   "metadata": {
    "ExecuteTime": {
     "end_time": "2020-12-31T08:15:33.162903Z",
     "start_time": "2020-12-31T08:15:33.126001Z"
    }
   },
   "outputs": [],
   "source": [
    "df_pi['Rating'] = df_pi.apply(lambda x: x['review & rating'][x['review & rating'].index(':')+1:] if ':' in x['review & rating'] else 0, axis = 1)"
   ]
  },
  {
   "cell_type": "code",
   "execution_count": 16,
   "metadata": {
    "ExecuteTime": {
     "end_time": "2020-12-31T08:15:33.195814Z",
     "start_time": "2020-12-31T08:15:33.163901Z"
    }
   },
   "outputs": [],
   "source": [
    "df_pi['Date Launched'] = df_pi.apply(lambda x: datetime.strptime(x['Date Launched'],'%m/%d/%Y'), axis = 1)"
   ]
  },
  {
   "cell_type": "code",
   "execution_count": 17,
   "metadata": {
    "ExecuteTime": {
     "end_time": "2020-12-31T08:15:33.207784Z",
     "start_time": "2020-12-31T08:15:33.196812Z"
    }
   },
   "outputs": [],
   "source": [
    "df_pi = df_pi[['SKU','Date Launched','Satus','Review','Rating']].drop_duplicates()"
   ]
  },
  {
   "cell_type": "code",
   "execution_count": 18,
   "metadata": {
    "ExecuteTime": {
     "end_time": "2020-12-31T08:15:33.226733Z",
     "start_time": "2020-12-31T08:15:33.208780Z"
    }
   },
   "outputs": [
    {
     "data": {
      "text/html": [
       "<div>\n",
       "<style scoped>\n",
       "    .dataframe tbody tr th:only-of-type {\n",
       "        vertical-align: middle;\n",
       "    }\n",
       "\n",
       "    .dataframe tbody tr th {\n",
       "        vertical-align: top;\n",
       "    }\n",
       "\n",
       "    .dataframe thead th {\n",
       "        text-align: right;\n",
       "    }\n",
       "</style>\n",
       "<table border=\"1\" class=\"dataframe\">\n",
       "  <thead>\n",
       "    <tr style=\"text-align: right;\">\n",
       "      <th></th>\n",
       "      <th>SKU</th>\n",
       "      <th>Date Launched</th>\n",
       "      <th>Satus</th>\n",
       "      <th>Review</th>\n",
       "      <th>Rating</th>\n",
       "    </tr>\n",
       "  </thead>\n",
       "  <tbody>\n",
       "    <tr>\n",
       "      <th>0</th>\n",
       "      <td>TNFI2298</td>\n",
       "      <td>2020-11-30</td>\n",
       "      <td>Live</td>\n",
       "      <td>0</td>\n",
       "      <td>0</td>\n",
       "    </tr>\n",
       "    <tr>\n",
       "      <th>1</th>\n",
       "      <td>TNFI2230</td>\n",
       "      <td>2020-10-02</td>\n",
       "      <td>Live</td>\n",
       "      <td>0</td>\n",
       "      <td>0</td>\n",
       "    </tr>\n",
       "    <tr>\n",
       "      <th>2</th>\n",
       "      <td>TNFI2240</td>\n",
       "      <td>2020-10-02</td>\n",
       "      <td>Live</td>\n",
       "      <td>0</td>\n",
       "      <td>0</td>\n",
       "    </tr>\n",
       "    <tr>\n",
       "      <th>3</th>\n",
       "      <td>TNFI2236</td>\n",
       "      <td>2020-10-02</td>\n",
       "      <td>Live</td>\n",
       "      <td>0</td>\n",
       "      <td>0</td>\n",
       "    </tr>\n",
       "    <tr>\n",
       "      <th>4</th>\n",
       "      <td>TNFI2235</td>\n",
       "      <td>2020-10-02</td>\n",
       "      <td>Live</td>\n",
       "      <td>0</td>\n",
       "      <td>0</td>\n",
       "    </tr>\n",
       "    <tr>\n",
       "      <th>...</th>\n",
       "      <td>...</td>\n",
       "      <td>...</td>\n",
       "      <td>...</td>\n",
       "      <td>...</td>\n",
       "      <td>...</td>\n",
       "    </tr>\n",
       "    <tr>\n",
       "      <th>790</th>\n",
       "      <td>TNFI1014</td>\n",
       "      <td>2018-03-28</td>\n",
       "      <td>Live</td>\n",
       "      <td>9</td>\n",
       "      <td>4.4</td>\n",
       "    </tr>\n",
       "    <tr>\n",
       "      <th>791</th>\n",
       "      <td>HAZE2464</td>\n",
       "      <td>2017-09-11</td>\n",
       "      <td>Live</td>\n",
       "      <td>8</td>\n",
       "      <td>4.9</td>\n",
       "    </tr>\n",
       "    <tr>\n",
       "      <th>792</th>\n",
       "      <td>HAZE2467</td>\n",
       "      <td>2017-09-11</td>\n",
       "      <td>Live</td>\n",
       "      <td>445</td>\n",
       "      <td>4.2</td>\n",
       "    </tr>\n",
       "    <tr>\n",
       "      <th>793</th>\n",
       "      <td>HAZE2468</td>\n",
       "      <td>2017-09-11</td>\n",
       "      <td>Live</td>\n",
       "      <td>1508</td>\n",
       "      <td>4.8</td>\n",
       "    </tr>\n",
       "    <tr>\n",
       "      <th>794</th>\n",
       "      <td>HAZE2466</td>\n",
       "      <td>2017-09-11</td>\n",
       "      <td>Live</td>\n",
       "      <td>463</td>\n",
       "      <td>4.8</td>\n",
       "    </tr>\n",
       "  </tbody>\n",
       "</table>\n",
       "<p>793 rows × 5 columns</p>\n",
       "</div>"
      ],
      "text/plain": [
       "          SKU Date Launched Satus Review Rating\n",
       "0    TNFI2298    2020-11-30  Live      0      0\n",
       "1    TNFI2230    2020-10-02  Live      0      0\n",
       "2    TNFI2240    2020-10-02  Live      0      0\n",
       "3    TNFI2236    2020-10-02  Live      0      0\n",
       "4    TNFI2235    2020-10-02  Live      0      0\n",
       "..        ...           ...   ...    ...    ...\n",
       "790  TNFI1014    2018-03-28  Live      9    4.4\n",
       "791  HAZE2464    2017-09-11  Live      8    4.9\n",
       "792  HAZE2467    2017-09-11  Live    445    4.2\n",
       "793  HAZE2468    2017-09-11  Live   1508    4.8\n",
       "794  HAZE2466    2017-09-11  Live    463    4.8\n",
       "\n",
       "[793 rows x 5 columns]"
      ]
     },
     "execution_count": 18,
     "metadata": {},
     "output_type": "execute_result"
    }
   ],
   "source": [
    "df_pi"
   ]
  },
  {
   "cell_type": "code",
   "execution_count": 19,
   "metadata": {
    "ExecuteTime": {
     "end_time": "2020-12-31T08:15:33.380321Z",
     "start_time": "2020-12-31T08:15:33.228729Z"
    }
   },
   "outputs": [],
   "source": [
    "df=df.merge(df_pi, on ='SKU',how = 'left')"
   ]
  },
  {
   "cell_type": "markdown",
   "metadata": {
    "ExecuteTime": {
     "end_time": "2020-12-30T01:15:00.883179Z",
     "start_time": "2020-12-30T01:15:00.853922Z"
    }
   },
   "source": [
    "---"
   ]
  },
  {
   "cell_type": "markdown",
   "metadata": {},
   "source": [
    "## Inventory"
   ]
  },
  {
   "cell_type": "code",
   "execution_count": 20,
   "metadata": {
    "ExecuteTime": {
     "end_time": "2020-12-31T08:15:33.388300Z",
     "start_time": "2020-12-31T08:15:33.382316Z"
    }
   },
   "outputs": [
    {
     "data": {
      "text/plain": [
       "'C:\\\\Users\\\\ygy91\\\\Desktop\\\\GX sales report'"
      ]
     },
     "execution_count": 20,
     "metadata": {},
     "output_type": "execute_result"
    }
   ],
   "source": [
    "pwd"
   ]
  },
  {
   "cell_type": "code",
   "execution_count": 21,
   "metadata": {
    "ExecuteTime": {
     "end_time": "2020-12-31T08:15:59.371403Z",
     "start_time": "2020-12-31T08:15:33.390295Z"
    }
   },
   "outputs": [],
   "source": [
    "df_inv = pd.read_excel('inventory//20201225全球库存统计及补货计划表.xlsx', sheet_name = '入库商家补货计划表')"
   ]
  },
  {
   "cell_type": "code",
   "execution_count": 22,
   "metadata": {
    "ExecuteTime": {
     "end_time": "2020-12-31T08:15:59.379663Z",
     "start_time": "2020-12-31T08:15:59.372400Z"
    }
   },
   "outputs": [],
   "source": [
    "# 1. good columns\n",
    "\n",
    "cols = ['国家', '对应账号SKU', '类别category',   '销量趋势(前30天对比（前60天到前30天）销量)',\n",
    "        '第一次断货时间', '第二次断货时间', '要求ETD', '要求验货时间',\n",
    "        '要求完工时间\\n订舱\\n调拨单', '要求下单时间', '建议下单数量', '货号', '入库商家',\n",
    "       '机构', '四字机构', 'CBM', 'FOB出运港', '工厂']\n",
    "\n",
    "warehouses = ['Cloud Stock\\n(2019年04月01日至今)',\n",
    "               'ComingSoon\\n(2019年04月01日至今)', 'Ship Now\\n(2019年04月01日至今)',\n",
    "               'On the Way',\n",
    "               'On the Way 2\\n(Wayfair-Castle Gate仓\\n US-Castle Gate仓\\n CA - Castle Gate仓\\n WAYFAIR-DE\\n WAYFAIR-FR\\n WAYFAIR-UK)',\n",
    "               '仓1', '仓2', '仓3', 'Castle Gate仓', 'FBA仓',\n",
    "               'FBC仓\\n(对于MX，此列为FBM仓【Mercado Libre平台库存】)',\n",
    "               '出口易库存仓1\\n(对于US 美国，仓1为【美国库存】,\\n对于CA 加拿大，仓1为【加拿大库存】)\\n对于EU 欧洲，仓1为【英国库存】)',\n",
    "               '出口易库存仓2\\n(对于EU 欧洲，仓2为【法国库存】)', '出口易库存仓3\\n(对于EU 欧洲，仓3为【德国库存】)', 'K2',\n",
    "               '天池(FR LVA)', '兼爱(FR LBG)', '说剑(US SNA)', '美东一海通（天下）\\n(US ATL)',\n",
    "               '美东（天运）\\n(US PHL)', '美西一海通（达生）\\n(US BUR)', '美西（天道）\\n(US LSQ)',\n",
    "               '圆融汇通英国(让王)\\n(UK MAN)', '圆融汇通（逍遥）\\n(CA YTZ)', '德国嘉宏（山木）\\n(DE DUS)',\n",
    "               '大森林（宗师）\\n(FR BVA)', 'Castle\\n(OVERSTOCK)', 'CPA\\n(OVERSTOCK)',\n",
    "               'WKC\\n(OVERSTOCK)', 'US-OVERSTOCK-CALIFORNIA\\n(OVERSTOCK)',\n",
    "               '公冶(FR BOD)', 'Groupon仓\\n(NL AMS)']"
   ]
  },
  {
   "cell_type": "code",
   "execution_count": 23,
   "metadata": {
    "ExecuteTime": {
     "end_time": "2020-12-31T08:15:59.977794Z",
     "start_time": "2020-12-31T08:15:59.417786Z"
    }
   },
   "outputs": [],
   "source": [
    "df_unpivot = df_inv.melt(id_vars = cols, value_vars = warehouses, var_name = 'warehouses')"
   ]
  },
  {
   "cell_type": "code",
   "execution_count": 24,
   "metadata": {
    "ExecuteTime": {
     "end_time": "2020-12-31T08:15:59.987767Z",
     "start_time": "2020-12-31T08:15:59.980786Z"
    }
   },
   "outputs": [],
   "source": [
    "map_WH  =   {'1. WH-Cloud': ['Cloud Stock\\n(2019年04月01日至今)'],\n",
    "             '2. WH-Coming': [\"ComingSoon\\n(2019年04月01日至今)\"],\n",
    "             '3. WH-ReadyToShip': ['Ship Now\\n(2019年04月01日至今)'],\n",
    "             '4. On the Way': ['On the Way', 'On the Way 2\\n(Wayfair-Castle Gate仓\\n US-Castle Gate仓\\n CA - Castle Gate仓\\n WAYFAIR-DE\\n WAYFAIR-FR\\n WAYFAIR-UK)'],\n",
    "             '5. WH-Arrival': ['仓1', '仓2', '仓3', 'Castle Gate仓', 'FBA仓',\n",
    "                     'FBC仓\\n(对于MX，此列为FBM仓【Mercado Libre平台库存】)',\n",
    "                     '出口易库存仓1\\n(对于US 美国，仓1为【美国库存】,\\n对于CA 加拿大，仓1为【加拿大库存】)\\n对于EU 欧洲，仓1为【英国库存】)',\n",
    "                     '出口易库存仓2\\n(对于EU 欧洲，仓2为【法国库存】)', '出口易库存仓3\\n(对于EU 欧洲，仓3为【德国库存】)',\n",
    "                     'K2', '天池(FR LVA)', '兼爱(FR LBG)', '说剑(US SNA)',\n",
    "                     '美东一海通（天下）\\n(US ATL)', '美东（天运）\\n(US PHL)', '美西一海通（达生）\\n(US BUR)',\n",
    "                     '美西（天道）\\n(US LSQ)', '圆融汇通英国(让王)\\n(UK MAN)', '圆融汇通（逍遥）\\n(CA YTZ)',\n",
    "                     '德国嘉宏（山木）\\n(DE DUS)', '大森林（宗师）\\n(FR BVA)', 'Castle\\n(OVERSTOCK)',\n",
    "                     'CPA\\n(OVERSTOCK)', 'WKC\\n(OVERSTOCK)',\n",
    "                     'US-OVERSTOCK-CALIFORNIA\\n(OVERSTOCK)', '公冶(FR BOD)',\n",
    "                     'Groupon仓\\n(NL AMS)']}"
   ]
  },
  {
   "cell_type": "code",
   "execution_count": 25,
   "metadata": {
    "ExecuteTime": {
     "end_time": "2020-12-31T08:16:00.002727Z",
     "start_time": "2020-12-31T08:15:59.989764Z"
    }
   },
   "outputs": [
    {
     "data": {
      "text/plain": [
       "Index(['国家', '对应账号SKU', '类别category', '销量趋势(前30天对比（前60天到前30天）销量)', '第一次断货时间',\n",
       "       '第二次断货时间', '要求ETD', '要求验货时间', '要求完工时间\\n订舱\\n调拨单', '要求下单时间', '建议下单数量',\n",
       "       '货号', '入库商家', '机构', '四字机构', 'CBM', 'FOB出运港', '工厂', 'warehouses',\n",
       "       'value'],\n",
       "      dtype='object')"
      ]
     },
     "execution_count": 25,
     "metadata": {},
     "output_type": "execute_result"
    }
   ],
   "source": [
    "# select columns\n",
    "df_unpivot.columns"
   ]
  },
  {
   "cell_type": "code",
   "execution_count": 26,
   "metadata": {
    "ExecuteTime": {
     "end_time": "2020-12-31T08:16:00.137393Z",
     "start_time": "2020-12-31T08:16:00.005720Z"
    }
   },
   "outputs": [],
   "source": [
    "df_wh = df_unpivot[['国家', '对应账号SKU', '类别category', '机构', '四字机构', 'CBM', 'FOB出运港', '工厂', 'warehouses', 'value']]\n",
    "\n",
    "df_wh.columns = ['Country', 'Item Number', 'Category', 'Operation detail', 'Department-4', \n",
    "              'CBM', 'FOB-City', 'Factory', 'warehouse detail', 'InvBal-Qty']\n",
    "\n",
    "df_wh = df_wh[df_wh['InvBal-Qty'].notnull()].reset_index(drop=True)"
   ]
  },
  {
   "cell_type": "code",
   "execution_count": 27,
   "metadata": {
    "ExecuteTime": {
     "end_time": "2020-12-31T08:16:00.142385Z",
     "start_time": "2020-12-31T08:16:00.138363Z"
    }
   },
   "outputs": [
    {
     "data": {
      "text/plain": [
       "dict_keys(['1. WH-Cloud', '2. WH-Coming', '3. WH-ReadyToShip', '4. On the Way', '5. WH-Arrival'])"
      ]
     },
     "execution_count": 27,
     "metadata": {},
     "output_type": "execute_result"
    }
   ],
   "source": [
    "map_WH.keys()"
   ]
  },
  {
   "cell_type": "code",
   "execution_count": 28,
   "metadata": {
    "ExecuteTime": {
     "end_time": "2020-12-31T08:16:00.173272Z",
     "start_time": "2020-12-31T08:16:00.144348Z"
    }
   },
   "outputs": [],
   "source": [
    "maps = []\n",
    "\n",
    "for i in map_WH:\n",
    "    temp = pd.DataFrame(map_WH[i], columns=['warehouse detail'])\n",
    "    temp['Warehouse'] = i\n",
    "    maps.append(temp)\n",
    "\n",
    "maps_wh = pd.concat(maps).reset_index(drop = True)\n"
   ]
  },
  {
   "cell_type": "code",
   "execution_count": 29,
   "metadata": {
    "ExecuteTime": {
     "end_time": "2020-12-31T08:16:00.185239Z",
     "start_time": "2020-12-31T08:16:00.174270Z"
    }
   },
   "outputs": [
    {
     "data": {
      "text/html": [
       "<div>\n",
       "<style scoped>\n",
       "    .dataframe tbody tr th:only-of-type {\n",
       "        vertical-align: middle;\n",
       "    }\n",
       "\n",
       "    .dataframe tbody tr th {\n",
       "        vertical-align: top;\n",
       "    }\n",
       "\n",
       "    .dataframe thead th {\n",
       "        text-align: right;\n",
       "    }\n",
       "</style>\n",
       "<table border=\"1\" class=\"dataframe\">\n",
       "  <thead>\n",
       "    <tr style=\"text-align: right;\">\n",
       "      <th></th>\n",
       "      <th>warehouse detail</th>\n",
       "      <th>Warehouse</th>\n",
       "    </tr>\n",
       "  </thead>\n",
       "  <tbody>\n",
       "    <tr>\n",
       "      <th>0</th>\n",
       "      <td>Cloud Stock\\n(2019年04月01日至今)</td>\n",
       "      <td>1. WH-Cloud</td>\n",
       "    </tr>\n",
       "    <tr>\n",
       "      <th>1</th>\n",
       "      <td>ComingSoon\\n(2019年04月01日至今)</td>\n",
       "      <td>2. WH-Coming</td>\n",
       "    </tr>\n",
       "    <tr>\n",
       "      <th>2</th>\n",
       "      <td>Ship Now\\n(2019年04月01日至今)</td>\n",
       "      <td>3. WH-ReadyToShip</td>\n",
       "    </tr>\n",
       "    <tr>\n",
       "      <th>3</th>\n",
       "      <td>On the Way</td>\n",
       "      <td>4. On the Way</td>\n",
       "    </tr>\n",
       "    <tr>\n",
       "      <th>4</th>\n",
       "      <td>On the Way 2\\n(Wayfair-Castle Gate仓\\n US-Castl...</td>\n",
       "      <td>4. On the Way</td>\n",
       "    </tr>\n",
       "  </tbody>\n",
       "</table>\n",
       "</div>"
      ],
      "text/plain": [
       "                                    warehouse detail          Warehouse\n",
       "0                       Cloud Stock\\n(2019年04月01日至今)        1. WH-Cloud\n",
       "1                        ComingSoon\\n(2019年04月01日至今)       2. WH-Coming\n",
       "2                          Ship Now\\n(2019年04月01日至今)  3. WH-ReadyToShip\n",
       "3                                         On the Way      4. On the Way\n",
       "4  On the Way 2\\n(Wayfair-Castle Gate仓\\n US-Castl...      4. On the Way"
      ]
     },
     "execution_count": 29,
     "metadata": {},
     "output_type": "execute_result"
    }
   ],
   "source": [
    "maps_wh.head()"
   ]
  },
  {
   "cell_type": "code",
   "execution_count": 30,
   "metadata": {
    "ExecuteTime": {
     "end_time": "2020-12-31T08:16:00.207180Z",
     "start_time": "2020-12-31T08:16:00.186235Z"
    }
   },
   "outputs": [],
   "source": [
    "df_wh = df_wh.merge(maps_wh, on = 'warehouse detail', how = 'left')"
   ]
  },
  {
   "cell_type": "code",
   "execution_count": 31,
   "metadata": {
    "ExecuteTime": {
     "end_time": "2020-12-31T08:16:00.211170Z",
     "start_time": "2020-12-31T08:16:00.208177Z"
    }
   },
   "outputs": [],
   "source": [
    "################################   select only THTJ inventory   #################################"
   ]
  },
  {
   "cell_type": "code",
   "execution_count": 32,
   "metadata": {
    "ExecuteTime": {
     "end_time": "2020-12-31T08:16:00.217154Z",
     "start_time": "2020-12-31T08:16:00.213163Z"
    }
   },
   "outputs": [],
   "source": [
    "# df_wh.to_csv('PowerBI Input//Inventory Balances.csv', index=False)"
   ]
  },
  {
   "cell_type": "code",
   "execution_count": null,
   "metadata": {},
   "outputs": [],
   "source": []
  },
  {
   "cell_type": "markdown",
   "metadata": {},
   "source": [
    "---"
   ]
  },
  {
   "cell_type": "markdown",
   "metadata": {},
   "source": [
    "## Product Catalog"
   ]
  },
  {
   "cell_type": "code",
   "execution_count": 33,
   "metadata": {
    "ExecuteTime": {
     "end_time": "2020-12-31T08:16:01.562808Z",
     "start_time": "2020-12-31T08:16:00.218150Z"
    },
    "scrolled": true
   },
   "outputs": [],
   "source": [
    "# sales items\n",
    "df_sales_item = df[['Item Number','SKU']]\n",
    "\n",
    "# Upper\n",
    "df_sales_item['Item Number'] = df_sales_item['Item Number'].str.upper()\n",
    "df_sales_item['SKU'] = df_sales_item['SKU'].str.upper()\n",
    "# clean '?' and strip\n",
    "df_sales_item['Item Number'] = df_sales_item.apply(lambda x: str(x['Item Number']).replace('?',' ').strip(), axis =1)\n",
    "\n",
    "df_sales_item = df_sales_item.drop_duplicates().reset_index(drop=True)"
   ]
  },
  {
   "cell_type": "code",
   "execution_count": 34,
   "metadata": {
    "ExecuteTime": {
     "end_time": "2020-12-31T08:16:01.586530Z",
     "start_time": "2020-12-31T08:16:01.564547Z"
    }
   },
   "outputs": [],
   "source": [
    "df_prod = pd.read_csv('sup source//Product Catalog//Product Catalog downloaded from Wayfair - 20201230.csv')"
   ]
  },
  {
   "cell_type": "code",
   "execution_count": 35,
   "metadata": {
    "ExecuteTime": {
     "end_time": "2020-12-31T08:16:01.631408Z",
     "start_time": "2020-12-31T08:16:01.587516Z"
    }
   },
   "outputs": [],
   "source": [
    "# product catalog items\n",
    "df_rel = df_prod[['Supplier Part #', 'Internal SKU', 'Product Name']]\n",
    "\n",
    "#Upper\n",
    "df_rel['Supplier Part #'] = df_rel['Supplier Part #'].str.upper()\n",
    "df_rel['Internal SKU'] = df_rel['Internal SKU'].str.upper()\n",
    "df_rel['Product Name'] = df_rel['Product Name'].str.upper()\n",
    "# clean '?' and strip\n",
    "df_rel['Supplier Part #'] = df_rel.apply(lambda x: str(x['Supplier Part #']).replace('?',' ').strip(), axis =1)\n",
    "\n",
    "df_rel = df_rel.drop_duplicates()\n",
    "df_rel.rename(columns={'Supplier Part #':'Item Number', 'Internal SKU':'SKU'}, inplace=True)\n",
    "df_rel = df_rel[df_rel['SKU'].notnull()].reset_index(drop=True)"
   ]
  },
  {
   "cell_type": "code",
   "execution_count": 36,
   "metadata": {
    "ExecuteTime": {
     "end_time": "2020-12-31T08:16:01.640374Z",
     "start_time": "2020-12-31T08:16:01.632396Z"
    }
   },
   "outputs": [],
   "source": [
    "df_item = pd.concat([df_rel[['Item Number', 'SKU']],df_sales_item]).drop_duplicates()"
   ]
  },
  {
   "cell_type": "code",
   "execution_count": 37,
   "metadata": {
    "ExecuteTime": {
     "end_time": "2020-12-31T08:16:01.648354Z",
     "start_time": "2020-12-31T08:16:01.641372Z"
    }
   },
   "outputs": [],
   "source": [
    "df_rel_name = df_rel[['SKU','Product Name']].drop_duplicates()"
   ]
  },
  {
   "cell_type": "code",
   "execution_count": 38,
   "metadata": {
    "ExecuteTime": {
     "end_time": "2020-12-31T08:16:01.657330Z",
     "start_time": "2020-12-31T08:16:01.649351Z"
    }
   },
   "outputs": [],
   "source": [
    "df_item = df_item.merge(df_rel_name, on='SKU', how='left')"
   ]
  },
  {
   "cell_type": "code",
   "execution_count": 39,
   "metadata": {
    "ExecuteTime": {
     "end_time": "2020-12-31T08:16:01.664311Z",
     "start_time": "2020-12-31T08:16:01.658327Z"
    }
   },
   "outputs": [],
   "source": [
    "# groupby Item Number ==> Make Sure item number are unique\n",
    "df_item.sort_values(by = 'SKU', inplace = True)"
   ]
  },
  {
   "cell_type": "code",
   "execution_count": 40,
   "metadata": {
    "ExecuteTime": {
     "end_time": "2020-12-31T08:16:01.686262Z",
     "start_time": "2020-12-31T08:16:01.665309Z"
    }
   },
   "outputs": [],
   "source": [
    "df_item['SKU'] = ' && ' + df_item['SKU']\n",
    "df_item['Product Name'] = ' && ' + df_item['Product Name']"
   ]
  },
  {
   "cell_type": "code",
   "execution_count": 41,
   "metadata": {
    "ExecuteTime": {
     "end_time": "2020-12-31T08:16:01.692236Z",
     "start_time": "2020-12-31T08:16:01.687250Z"
    }
   },
   "outputs": [],
   "source": [
    "df_item['SKU'] = df_item['SKU'].astype(str)\n",
    "df_item['Product Name'] = df_item['Product Name'].astype(str)"
   ]
  },
  {
   "cell_type": "code",
   "execution_count": 42,
   "metadata": {
    "ExecuteTime": {
     "end_time": "2020-12-31T08:16:02.155514Z",
     "start_time": "2020-12-31T08:16:01.693233Z"
    }
   },
   "outputs": [],
   "source": [
    "df_item = df_item.groupby('Item Number').sum().reset_index()"
   ]
  },
  {
   "cell_type": "code",
   "execution_count": 43,
   "metadata": {
    "ExecuteTime": {
     "end_time": "2020-12-31T08:16:02.163483Z",
     "start_time": "2020-12-31T08:16:02.156500Z"
    }
   },
   "outputs": [],
   "source": [
    "df_item['SKU'] = df_item['SKU'].str[4:]\n",
    "df_item['Product Name'] = df_item['Product Name'].str[4:]"
   ]
  },
  {
   "cell_type": "code",
   "execution_count": 44,
   "metadata": {
    "ExecuteTime": {
     "end_time": "2020-12-31T08:16:02.170465Z",
     "start_time": "2020-12-31T08:16:02.165477Z"
    }
   },
   "outputs": [],
   "source": [
    "df_item.fillna('Product Name not found in PC',inplace = True)"
   ]
  },
  {
   "cell_type": "code",
   "execution_count": 45,
   "metadata": {
    "ExecuteTime": {
     "end_time": "2020-12-31T08:16:02.176448Z",
     "start_time": "2020-12-31T08:16:02.171463Z"
    }
   },
   "outputs": [],
   "source": [
    "# finish processing sales and product catalog"
   ]
  },
  {
   "cell_type": "code",
   "execution_count": 46,
   "metadata": {
    "ExecuteTime": {
     "end_time": "2020-12-31T08:16:02.597322Z",
     "start_time": "2020-12-31T08:16:02.179440Z"
    }
   },
   "outputs": [],
   "source": [
    "# warehouse items\n",
    "df_wh_item = df_wh[['Item Number']]\n",
    "\n",
    "# upper\n",
    "df_wh_item['Item Number'] =  df_wh_item['Item Number'].str.upper()\n",
    "# clean '?' and strip\n",
    "df_wh_item['Item Number'] = df_wh_item.apply(lambda x: str(x['Item Number']).replace('?',' ').strip(), axis =1)\n",
    "\n",
    "df_wh_item = df_wh_item.drop_duplicates().reset_index(drop=True)"
   ]
  },
  {
   "cell_type": "code",
   "execution_count": 47,
   "metadata": {
    "ExecuteTime": {
     "end_time": "2020-12-31T08:16:03.531741Z",
     "start_time": "2020-12-31T08:16:02.599317Z"
    }
   },
   "outputs": [],
   "source": [
    "df_wh_item['in/out'] = df_wh_item.apply(lambda x: x['Item Number'] in list(df_item['Item Number']), axis = 1)"
   ]
  },
  {
   "cell_type": "code",
   "execution_count": 48,
   "metadata": {
    "ExecuteTime": {
     "end_time": "2020-12-31T08:16:03.540719Z",
     "start_time": "2020-12-31T08:16:03.532739Z"
    }
   },
   "outputs": [],
   "source": [
    "df_add = df_wh_item[~df_wh_item['in/out']][['Item Number']]\n",
    "df_add['SKU'] = 'unallocated'      # define unallocated items"
   ]
  },
  {
   "cell_type": "code",
   "execution_count": 49,
   "metadata": {
    "ExecuteTime": {
     "end_time": "2020-12-31T08:16:03.558671Z",
     "start_time": "2020-12-31T08:16:03.542711Z"
    }
   },
   "outputs": [],
   "source": [
    "df_itemset = pd.concat([df_item, df_add]).fillna('unallocated inventory')    "
   ]
  },
  {
   "cell_type": "code",
   "execution_count": 50,
   "metadata": {
    "ExecuteTime": {
     "end_time": "2020-12-31T08:16:03.593578Z",
     "start_time": "2020-12-31T08:16:03.561661Z"
    }
   },
   "outputs": [],
   "source": [
    "df_itemset.to_csv('Item Mapping//DIM Item Name.csv', index=False, encoding='utf_8_sig')"
   ]
  },
  {
   "cell_type": "code",
   "execution_count": null,
   "metadata": {},
   "outputs": [],
   "source": []
  },
  {
   "cell_type": "code",
   "execution_count": 51,
   "metadata": {
    "ExecuteTime": {
     "end_time": "2020-12-31T08:16:03.600557Z",
     "start_time": "2020-12-31T08:16:03.595570Z"
    },
    "scrolled": true
   },
   "outputs": [
    {
     "data": {
      "text/plain": [
       "'C:\\\\Users\\\\ygy91\\\\Desktop\\\\GX sales report'"
      ]
     },
     "execution_count": 51,
     "metadata": {},
     "output_type": "execute_result"
    }
   ],
   "source": [
    "pwd"
   ]
  },
  {
   "cell_type": "code",
   "execution_count": 52,
   "metadata": {
    "ExecuteTime": {
     "end_time": "2020-12-31T08:16:03.629481Z",
     "start_time": "2020-12-31T08:16:03.602551Z"
    }
   },
   "outputs": [],
   "source": [
    "df_prod = pd.read_csv('sup source//Product Catalog//Product Catalog downloaded from Wayfair - 20201230.csv')"
   ]
  },
  {
   "cell_type": "code",
   "execution_count": 53,
   "metadata": {
    "ExecuteTime": {
     "end_time": "2020-12-31T08:16:03.643446Z",
     "start_time": "2020-12-31T08:16:03.631474Z"
    }
   },
   "outputs": [],
   "source": [
    "# create DIM-SKU from Product Catalog downloaded\n",
    "df_ProductDIM = df_prod[['Internal SKU','Product Name']].drop_duplicates().dropna(axis=0).sort_values(by = 'Internal SKU')"
   ]
  },
  {
   "cell_type": "code",
   "execution_count": 54,
   "metadata": {
    "ExecuteTime": {
     "end_time": "2020-12-31T08:16:03.663389Z",
     "start_time": "2020-12-31T08:16:03.645438Z"
    }
   },
   "outputs": [],
   "source": [
    "# to include missing items in df_ProductDIM (downloaded from FUll Product Catalog but still missing in sales, weird)\n",
    "Sales_Additional_Product_DIM = df[['SKU']].drop_duplicates()"
   ]
  },
  {
   "cell_type": "code",
   "execution_count": 55,
   "metadata": {
    "ExecuteTime": {
     "end_time": "2020-12-31T08:16:03.670371Z",
     "start_time": "2020-12-31T08:16:03.665384Z"
    }
   },
   "outputs": [],
   "source": [
    "df_ProductDIM.rename(columns = {'Internal SKU': 'SKU'}, inplace = True)"
   ]
  },
  {
   "cell_type": "code",
   "execution_count": 56,
   "metadata": {
    "ExecuteTime": {
     "end_time": "2020-12-31T08:16:03.681342Z",
     "start_time": "2020-12-31T08:16:03.671368Z"
    }
   },
   "outputs": [],
   "source": [
    "df_ProductDIM = df_ProductDIM.merge(Sales_Additional_Product_DIM, on = 'SKU', how = 'outer')"
   ]
  },
  {
   "cell_type": "code",
   "execution_count": 57,
   "metadata": {
    "ExecuteTime": {
     "end_time": "2020-12-31T08:16:03.692311Z",
     "start_time": "2020-12-31T08:16:03.682340Z"
    }
   },
   "outputs": [],
   "source": [
    "# \n",
    "temp = df_prod.copy()\n",
    "temp = temp.rename(columns = {'Supplier Part #':'Item Number'})\n",
    "# upper: make sure match on Item Number\n",
    "temp['Item Number'] = temp['Item Number'].str.upper()"
   ]
  },
  {
   "cell_type": "code",
   "execution_count": 58,
   "metadata": {
    "ExecuteTime": {
     "end_time": "2020-12-31T08:16:03.723236Z",
     "start_time": "2020-12-31T08:16:03.694307Z"
    }
   },
   "outputs": [],
   "source": [
    "# create bridge between Inventory and Sales\n",
    "df_wh_after_add_internalSKU = df_wh.merge(temp[['Item Number', 'Internal SKU']].drop_duplicates(), on = 'Item Number', how = 'left')"
   ]
  },
  {
   "cell_type": "code",
   "execution_count": 59,
   "metadata": {
    "ExecuteTime": {
     "end_time": "2020-12-31T08:16:03.748162Z",
     "start_time": "2020-12-31T08:16:03.724225Z"
    }
   },
   "outputs": [],
   "source": [
    "DIM_Item_Name = df_wh_after_add_internalSKU[['Item Number', 'Internal SKU']].fillna('Unallocated').drop_duplicates()\n",
    "DIM_Item_Name.rename(columns= {'Internal SKU':'SKU'}, inplace = True)"
   ]
  },
  {
   "cell_type": "code",
   "execution_count": 60,
   "metadata": {
    "ExecuteTime": {
     "end_time": "2020-12-31T08:16:03.758135Z",
     "start_time": "2020-12-31T08:16:03.749160Z"
    }
   },
   "outputs": [],
   "source": [
    "DIM_Item_Name = DIM_Item_Name.merge(df_ProductDIM, on = 'SKU', how = 'left')"
   ]
  },
  {
   "cell_type": "code",
   "execution_count": 61,
   "metadata": {
    "ExecuteTime": {
     "end_time": "2020-12-31T08:16:03.767111Z",
     "start_time": "2020-12-31T08:16:03.760142Z"
    }
   },
   "outputs": [],
   "source": [
    "DIM_Item_Name['Product Name'] = '&' + DIM_Item_Name['Product Name']\n",
    "DIM_Item_Name['SKU'] = '&' + DIM_Item_Name['SKU']"
   ]
  },
  {
   "cell_type": "code",
   "execution_count": 62,
   "metadata": {
    "ExecuteTime": {
     "end_time": "2020-12-31T08:16:04.784412Z",
     "start_time": "2020-12-31T08:16:03.769106Z"
    }
   },
   "outputs": [],
   "source": [
    "DIM_Item_Name = DIM_Item_Name.sort_values(by = 'SKU').groupby(['Item Number']).sum().reset_index()\n",
    "\n",
    "DIM_Item_Name['SKU'] = DIM_Item_Name['SKU'].str[1:]\n",
    "DIM_Item_Name['Product Name'] = DIM_Item_Name['Product Name'].str[1:]"
   ]
  },
  {
   "cell_type": "code",
   "execution_count": 63,
   "metadata": {
    "ExecuteTime": {
     "end_time": "2020-12-31T08:16:04.798366Z",
     "start_time": "2020-12-31T08:16:04.785400Z"
    }
   },
   "outputs": [
    {
     "data": {
      "text/html": [
       "<div>\n",
       "<style scoped>\n",
       "    .dataframe tbody tr th:only-of-type {\n",
       "        vertical-align: middle;\n",
       "    }\n",
       "\n",
       "    .dataframe tbody tr th {\n",
       "        vertical-align: top;\n",
       "    }\n",
       "\n",
       "    .dataframe thead th {\n",
       "        text-align: right;\n",
       "    }\n",
       "</style>\n",
       "<table border=\"1\" class=\"dataframe\">\n",
       "  <thead>\n",
       "    <tr style=\"text-align: right;\">\n",
       "      <th></th>\n",
       "      <th>SKU</th>\n",
       "    </tr>\n",
       "  </thead>\n",
       "  <tbody>\n",
       "    <tr>\n",
       "      <th>0</th>\n",
       "      <td>TNFI1964</td>\n",
       "    </tr>\n",
       "    <tr>\n",
       "      <th>1</th>\n",
       "      <td>TNFI1965</td>\n",
       "    </tr>\n",
       "    <tr>\n",
       "      <th>2</th>\n",
       "      <td>TNFI1335</td>\n",
       "    </tr>\n",
       "    <tr>\n",
       "      <th>3</th>\n",
       "      <td>Unallocated</td>\n",
       "    </tr>\n",
       "    <tr>\n",
       "      <th>5</th>\n",
       "      <td>TNFI1289</td>\n",
       "    </tr>\n",
       "    <tr>\n",
       "      <th>...</th>\n",
       "      <td>...</td>\n",
       "    </tr>\n",
       "    <tr>\n",
       "      <th>4399</th>\n",
       "      <td>TNFI1285</td>\n",
       "    </tr>\n",
       "    <tr>\n",
       "      <th>4405</th>\n",
       "      <td>TNFI2103</td>\n",
       "    </tr>\n",
       "    <tr>\n",
       "      <th>4413</th>\n",
       "      <td>TNFI1633</td>\n",
       "    </tr>\n",
       "    <tr>\n",
       "      <th>4421</th>\n",
       "      <td>TNFI1923</td>\n",
       "    </tr>\n",
       "    <tr>\n",
       "      <th>4470</th>\n",
       "      <td>TNFI1630</td>\n",
       "    </tr>\n",
       "  </tbody>\n",
       "</table>\n",
       "<p>575 rows × 1 columns</p>\n",
       "</div>"
      ],
      "text/plain": [
       "              SKU\n",
       "0        TNFI1964\n",
       "1        TNFI1965\n",
       "2        TNFI1335\n",
       "3     Unallocated\n",
       "5        TNFI1289\n",
       "...           ...\n",
       "4399     TNFI1285\n",
       "4405     TNFI2103\n",
       "4413     TNFI1633\n",
       "4421     TNFI1923\n",
       "4470     TNFI1630\n",
       "\n",
       "[575 rows x 1 columns]"
      ]
     },
     "execution_count": 63,
     "metadata": {},
     "output_type": "execute_result"
    }
   ],
   "source": [
    "DIM_Item_Name[['SKU']].drop_duplicates()"
   ]
  },
  {
   "cell_type": "code",
   "execution_count": 64,
   "metadata": {
    "ExecuteTime": {
     "end_time": "2020-12-31T08:16:04.818312Z",
     "start_time": "2020-12-31T08:16:04.800363Z"
    }
   },
   "outputs": [],
   "source": [
    "DIM_Item_Name.to_csv('Item Mapping//DIM Item Name.csv', index=False, encoding='utf_8_sig')"
   ]
  },
  {
   "cell_type": "code",
   "execution_count": 65,
   "metadata": {
    "ExecuteTime": {
     "end_time": "2020-12-31T08:16:04.830281Z",
     "start_time": "2020-12-31T08:16:04.819309Z"
    }
   },
   "outputs": [
    {
     "data": {
      "text/html": [
       "<div>\n",
       "<style scoped>\n",
       "    .dataframe tbody tr th:only-of-type {\n",
       "        vertical-align: middle;\n",
       "    }\n",
       "\n",
       "    .dataframe tbody tr th {\n",
       "        vertical-align: top;\n",
       "    }\n",
       "\n",
       "    .dataframe thead th {\n",
       "        text-align: right;\n",
       "    }\n",
       "</style>\n",
       "<table border=\"1\" class=\"dataframe\">\n",
       "  <thead>\n",
       "    <tr style=\"text-align: right;\">\n",
       "      <th></th>\n",
       "      <th>Item Number</th>\n",
       "      <th>SKU</th>\n",
       "      <th>Product Name</th>\n",
       "    </tr>\n",
       "  </thead>\n",
       "  <tbody>\n",
       "    <tr>\n",
       "      <th>0</th>\n",
       "      <td>ABELARDO</td>\n",
       "      <td>TNFI1964</td>\n",
       "      <td>Ajaye Armoire</td>\n",
       "    </tr>\n",
       "    <tr>\n",
       "      <th>1</th>\n",
       "      <td>ABELARDO THREE DOORS</td>\n",
       "      <td>TNFI1965</td>\n",
       "      <td>Ajaye Armoire</td>\n",
       "    </tr>\n",
       "    <tr>\n",
       "      <th>2</th>\n",
       "      <td>ABLITT</td>\n",
       "      <td>TNFI1335</td>\n",
       "      <td>Hawkinson Labounty Executive Chair</td>\n",
       "    </tr>\n",
       "    <tr>\n",
       "      <th>3</th>\n",
       "      <td>ABLOTT BLACK</td>\n",
       "      <td>Unallocated</td>\n",
       "      <td>NaN</td>\n",
       "    </tr>\n",
       "    <tr>\n",
       "      <th>4</th>\n",
       "      <td>ABLOTT BROWN</td>\n",
       "      <td>Unallocated</td>\n",
       "      <td>NaN</td>\n",
       "    </tr>\n",
       "    <tr>\n",
       "      <th>...</th>\n",
       "      <td>...</td>\n",
       "      <td>...</td>\n",
       "      <td>...</td>\n",
       "    </tr>\n",
       "    <tr>\n",
       "      <th>4499</th>\n",
       "      <td>ZOMBA YELLOW FELLCE</td>\n",
       "      <td>Unallocated</td>\n",
       "      <td>NaN</td>\n",
       "    </tr>\n",
       "    <tr>\n",
       "      <th>4500</th>\n",
       "      <td>ZOMBALUN DARK BLUE Ⅰ</td>\n",
       "      <td>Unallocated</td>\n",
       "      <td>NaN</td>\n",
       "    </tr>\n",
       "    <tr>\n",
       "      <th>4501</th>\n",
       "      <td>ZOMBALUN GREY Ⅰ</td>\n",
       "      <td>Unallocated</td>\n",
       "      <td>NaN</td>\n",
       "    </tr>\n",
       "    <tr>\n",
       "      <th>4502</th>\n",
       "      <td>ZURICH</td>\n",
       "      <td>Unallocated</td>\n",
       "      <td>NaN</td>\n",
       "    </tr>\n",
       "    <tr>\n",
       "      <th>4503</th>\n",
       "      <td>ZYMANO Ⅰ</td>\n",
       "      <td>Unallocated</td>\n",
       "      <td>NaN</td>\n",
       "    </tr>\n",
       "  </tbody>\n",
       "</table>\n",
       "<p>4504 rows × 3 columns</p>\n",
       "</div>"
      ],
      "text/plain": [
       "               Item Number          SKU                        Product Name\n",
       "0                 ABELARDO     TNFI1964                       Ajaye Armoire\n",
       "1     ABELARDO THREE DOORS     TNFI1965                       Ajaye Armoire\n",
       "2                   ABLITT     TNFI1335  Hawkinson Labounty Executive Chair\n",
       "3             ABLOTT BLACK  Unallocated                                 NaN\n",
       "4             ABLOTT BROWN  Unallocated                                 NaN\n",
       "...                    ...          ...                                 ...\n",
       "4499   ZOMBA YELLOW FELLCE  Unallocated                                 NaN\n",
       "4500  ZOMBALUN DARK BLUE Ⅰ  Unallocated                                 NaN\n",
       "4501       ZOMBALUN GREY Ⅰ  Unallocated                                 NaN\n",
       "4502                ZURICH  Unallocated                                 NaN\n",
       "4503              ZYMANO Ⅰ  Unallocated                                 NaN\n",
       "\n",
       "[4504 rows x 3 columns]"
      ]
     },
     "execution_count": 65,
     "metadata": {},
     "output_type": "execute_result"
    }
   ],
   "source": [
    "DIM_Item_Name"
   ]
  },
  {
   "cell_type": "markdown",
   "metadata": {},
   "source": [
    "---"
   ]
  },
  {
   "cell_type": "markdown",
   "metadata": {
    "ExecuteTime": {
     "end_time": "2020-12-31T02:02:39.620597Z",
     "start_time": "2020-12-31T02:02:39.617605Z"
    }
   },
   "source": [
    "## Now save Inventory Fact Table (after finishing item mapping)"
   ]
  },
  {
   "cell_type": "code",
   "execution_count": 66,
   "metadata": {
    "ExecuteTime": {
     "end_time": "2020-12-31T08:16:04.859239Z",
     "start_time": "2020-12-31T08:16:04.832275Z"
    },
    "scrolled": true
   },
   "outputs": [],
   "source": [
    "df_wh = df_wh.merge(DIM_Item_Name, on = 'Item Number', how = 'left')"
   ]
  },
  {
   "cell_type": "code",
   "execution_count": 67,
   "metadata": {
    "ExecuteTime": {
     "end_time": "2020-12-31T08:16:05.075624Z",
     "start_time": "2020-12-31T08:16:04.861199Z"
    }
   },
   "outputs": [],
   "source": [
    "df_wh.to_csv('PowerBI Input//Inventory Balances.csv', index=False)"
   ]
  },
  {
   "cell_type": "markdown",
   "metadata": {
    "ExecuteTime": {
     "end_time": "2020-12-31T02:02:39.620597Z",
     "start_time": "2020-12-31T02:02:39.617605Z"
    }
   },
   "source": [
    "## Now save Sales Fact Table (after finishing item mapping)"
   ]
  },
  {
   "cell_type": "code",
   "execution_count": 68,
   "metadata": {
    "ExecuteTime": {
     "end_time": "2020-12-31T08:16:05.109537Z",
     "start_time": "2020-12-31T08:16:05.085597Z"
    }
   },
   "outputs": [],
   "source": [
    "df.rename(columns={'SKU':'Wayfair SKU'}, inplace = True)"
   ]
  },
  {
   "cell_type": "code",
   "execution_count": 69,
   "metadata": {
    "ExecuteTime": {
     "end_time": "2020-12-31T08:16:05.310993Z",
     "start_time": "2020-12-31T08:16:05.114521Z"
    }
   },
   "outputs": [],
   "source": [
    "df = df.merge(DIM_Item_Name, on = 'Item Number', how = 'left')"
   ]
  },
  {
   "cell_type": "code",
   "execution_count": 70,
   "metadata": {
    "ExecuteTime": {
     "end_time": "2020-12-31T08:16:07.457791Z",
     "start_time": "2020-12-31T08:16:05.312990Z"
    }
   },
   "outputs": [],
   "source": [
    "df.to_csv('PowerBI Input//wayfair_sales_input.csv', index = False)"
   ]
  },
  {
   "cell_type": "code",
   "execution_count": 71,
   "metadata": {
    "ExecuteTime": {
     "end_time": "2020-12-31T08:16:07.469793Z",
     "start_time": "2020-12-31T08:16:07.458780Z"
    }
   },
   "outputs": [
    {
     "data": {
      "text/html": [
       "<div>\n",
       "<style scoped>\n",
       "    .dataframe tbody tr th:only-of-type {\n",
       "        vertical-align: middle;\n",
       "    }\n",
       "\n",
       "    .dataframe tbody tr th {\n",
       "        vertical-align: top;\n",
       "    }\n",
       "\n",
       "    .dataframe thead th {\n",
       "        text-align: right;\n",
       "    }\n",
       "</style>\n",
       "<table border=\"1\" class=\"dataframe\">\n",
       "  <thead>\n",
       "    <tr style=\"text-align: right;\">\n",
       "      <th></th>\n",
       "      <th>Item Number</th>\n",
       "      <th>SKU</th>\n",
       "      <th>Product Name</th>\n",
       "    </tr>\n",
       "  </thead>\n",
       "  <tbody>\n",
       "    <tr>\n",
       "      <th>0</th>\n",
       "      <td>ABELARDO</td>\n",
       "      <td>TNFI1964</td>\n",
       "      <td>Ajaye Armoire</td>\n",
       "    </tr>\n",
       "    <tr>\n",
       "      <th>1</th>\n",
       "      <td>ABELARDO THREE DOORS</td>\n",
       "      <td>TNFI1965</td>\n",
       "      <td>Ajaye Armoire</td>\n",
       "    </tr>\n",
       "    <tr>\n",
       "      <th>2</th>\n",
       "      <td>ABLITT</td>\n",
       "      <td>TNFI1335</td>\n",
       "      <td>Hawkinson Labounty Executive Chair</td>\n",
       "    </tr>\n",
       "    <tr>\n",
       "      <th>3</th>\n",
       "      <td>ABLOTT BLACK</td>\n",
       "      <td>Unallocated</td>\n",
       "      <td>NaN</td>\n",
       "    </tr>\n",
       "    <tr>\n",
       "      <th>4</th>\n",
       "      <td>ABLOTT BROWN</td>\n",
       "      <td>Unallocated</td>\n",
       "      <td>NaN</td>\n",
       "    </tr>\n",
       "    <tr>\n",
       "      <th>...</th>\n",
       "      <td>...</td>\n",
       "      <td>...</td>\n",
       "      <td>...</td>\n",
       "    </tr>\n",
       "    <tr>\n",
       "      <th>4499</th>\n",
       "      <td>ZOMBA YELLOW FELLCE</td>\n",
       "      <td>Unallocated</td>\n",
       "      <td>NaN</td>\n",
       "    </tr>\n",
       "    <tr>\n",
       "      <th>4500</th>\n",
       "      <td>ZOMBALUN DARK BLUE Ⅰ</td>\n",
       "      <td>Unallocated</td>\n",
       "      <td>NaN</td>\n",
       "    </tr>\n",
       "    <tr>\n",
       "      <th>4501</th>\n",
       "      <td>ZOMBALUN GREY Ⅰ</td>\n",
       "      <td>Unallocated</td>\n",
       "      <td>NaN</td>\n",
       "    </tr>\n",
       "    <tr>\n",
       "      <th>4502</th>\n",
       "      <td>ZURICH</td>\n",
       "      <td>Unallocated</td>\n",
       "      <td>NaN</td>\n",
       "    </tr>\n",
       "    <tr>\n",
       "      <th>4503</th>\n",
       "      <td>ZYMANO Ⅰ</td>\n",
       "      <td>Unallocated</td>\n",
       "      <td>NaN</td>\n",
       "    </tr>\n",
       "  </tbody>\n",
       "</table>\n",
       "<p>4504 rows × 3 columns</p>\n",
       "</div>"
      ],
      "text/plain": [
       "               Item Number          SKU                        Product Name\n",
       "0                 ABELARDO     TNFI1964                       Ajaye Armoire\n",
       "1     ABELARDO THREE DOORS     TNFI1965                       Ajaye Armoire\n",
       "2                   ABLITT     TNFI1335  Hawkinson Labounty Executive Chair\n",
       "3             ABLOTT BLACK  Unallocated                                 NaN\n",
       "4             ABLOTT BROWN  Unallocated                                 NaN\n",
       "...                    ...          ...                                 ...\n",
       "4499   ZOMBA YELLOW FELLCE  Unallocated                                 NaN\n",
       "4500  ZOMBALUN DARK BLUE Ⅰ  Unallocated                                 NaN\n",
       "4501       ZOMBALUN GREY Ⅰ  Unallocated                                 NaN\n",
       "4502                ZURICH  Unallocated                                 NaN\n",
       "4503              ZYMANO Ⅰ  Unallocated                                 NaN\n",
       "\n",
       "[4504 rows x 3 columns]"
      ]
     },
     "execution_count": 71,
     "metadata": {},
     "output_type": "execute_result"
    }
   ],
   "source": [
    "DIM_Item_Name"
   ]
  },
  {
   "cell_type": "code",
   "execution_count": null,
   "metadata": {},
   "outputs": [],
   "source": []
  },
  {
   "cell_type": "code",
   "execution_count": null,
   "metadata": {},
   "outputs": [],
   "source": []
  },
  {
   "cell_type": "code",
   "execution_count": 72,
   "metadata": {
    "ExecuteTime": {
     "end_time": "2020-12-31T08:16:07.511640Z",
     "start_time": "2020-12-31T08:16:07.471745Z"
    }
   },
   "outputs": [
    {
     "data": {
      "text/html": [
       "<div>\n",
       "<style scoped>\n",
       "    .dataframe tbody tr th:only-of-type {\n",
       "        vertical-align: middle;\n",
       "    }\n",
       "\n",
       "    .dataframe tbody tr th {\n",
       "        vertical-align: top;\n",
       "    }\n",
       "\n",
       "    .dataframe thead th {\n",
       "        text-align: right;\n",
       "    }\n",
       "</style>\n",
       "<table border=\"1\" class=\"dataframe\">\n",
       "  <thead>\n",
       "    <tr style=\"text-align: right;\">\n",
       "      <th></th>\n",
       "      <th>Country</th>\n",
       "      <th>Item Number</th>\n",
       "      <th>Category</th>\n",
       "      <th>Operation detail</th>\n",
       "      <th>Department-4</th>\n",
       "      <th>CBM</th>\n",
       "      <th>FOB-City</th>\n",
       "      <th>Factory</th>\n",
       "      <th>warehouse detail</th>\n",
       "      <th>InvBal-Qty</th>\n",
       "      <th>Warehouse</th>\n",
       "      <th>Internal SKU</th>\n",
       "    </tr>\n",
       "  </thead>\n",
       "  <tbody>\n",
       "    <tr>\n",
       "      <th>2116</th>\n",
       "      <td>CA</td>\n",
       "      <td>ADAMS BLACK</td>\n",
       "      <td>Secretary Office Chair</td>\n",
       "      <td>青荇渡_39FINC</td>\n",
       "      <td>太华天街</td>\n",
       "      <td>0.135</td>\n",
       "      <td>宁波</td>\n",
       "      <td>安吉鼎悦家具有限公司</td>\n",
       "      <td>Cloud Stock\\n(2019年04月01日至今)</td>\n",
       "      <td>50.0</td>\n",
       "      <td>1. WH-Cloud</td>\n",
       "      <td>NaN</td>\n",
       "    </tr>\n",
       "    <tr>\n",
       "      <th>2117</th>\n",
       "      <td>CA</td>\n",
       "      <td>ADAMS BROWN</td>\n",
       "      <td>Secretary Office Chair</td>\n",
       "      <td>曾厝垵</td>\n",
       "      <td>太华天街</td>\n",
       "      <td>0.135</td>\n",
       "      <td>上海</td>\n",
       "      <td>安吉龙派家具有限公司</td>\n",
       "      <td>Cloud Stock\\n(2019年04月01日至今)</td>\n",
       "      <td>200.0</td>\n",
       "      <td>1. WH-Cloud</td>\n",
       "      <td>NaN</td>\n",
       "    </tr>\n",
       "    <tr>\n",
       "      <th>2118</th>\n",
       "      <td>CA</td>\n",
       "      <td>ADAMS BROWN</td>\n",
       "      <td>Secretary Office Chair</td>\n",
       "      <td>青荇渡_39FINC</td>\n",
       "      <td>太华天街</td>\n",
       "      <td>0.135</td>\n",
       "      <td>上海</td>\n",
       "      <td>安吉龙派家具有限公司</td>\n",
       "      <td>Cloud Stock\\n(2019年04月01日至今)</td>\n",
       "      <td>50.0</td>\n",
       "      <td>1. WH-Cloud</td>\n",
       "      <td>NaN</td>\n",
       "    </tr>\n",
       "    <tr>\n",
       "      <th>2120</th>\n",
       "      <td>CA</td>\n",
       "      <td>ALASKA WOOD</td>\n",
       "      <td>Board with Metal Desk</td>\n",
       "      <td>名古屋_GX</td>\n",
       "      <td>太华天街</td>\n",
       "      <td>0.105</td>\n",
       "      <td>厦门</td>\n",
       "      <td>漳州红梅家具有限公司</td>\n",
       "      <td>Cloud Stock\\n(2019年04月01日至今)</td>\n",
       "      <td>300.0</td>\n",
       "      <td>1. WH-Cloud</td>\n",
       "      <td>NaN</td>\n",
       "    </tr>\n",
       "    <tr>\n",
       "      <th>2121</th>\n",
       "      <td>CA</td>\n",
       "      <td>ALBERTIN</td>\n",
       "      <td>L-Shaped &amp; Corner Desk</td>\n",
       "      <td>曾厝垵_39FINC</td>\n",
       "      <td>太华天街</td>\n",
       "      <td>0.115</td>\n",
       "      <td>厦门</td>\n",
       "      <td>新佳美(漳州)日用品有限公司</td>\n",
       "      <td>Cloud Stock\\n(2019年04月01日至今)</td>\n",
       "      <td>300.0</td>\n",
       "      <td>1. WH-Cloud</td>\n",
       "      <td>NaN</td>\n",
       "    </tr>\n",
       "    <tr>\n",
       "      <th>...</th>\n",
       "      <td>...</td>\n",
       "      <td>...</td>\n",
       "      <td>...</td>\n",
       "      <td>...</td>\n",
       "      <td>...</td>\n",
       "      <td>...</td>\n",
       "      <td>...</td>\n",
       "      <td>...</td>\n",
       "      <td>...</td>\n",
       "      <td>...</td>\n",
       "      <td>...</td>\n",
       "      <td>...</td>\n",
       "    </tr>\n",
       "    <tr>\n",
       "      <th>24407</th>\n",
       "      <td>US</td>\n",
       "      <td>ROOKIE ROUND TABLE GREY</td>\n",
       "      <td>Dining Table</td>\n",
       "      <td>奈良井</td>\n",
       "      <td>太华天街</td>\n",
       "      <td>0.114</td>\n",
       "      <td>天津</td>\n",
       "      <td>廊坊赛普贸易有限公司</td>\n",
       "      <td>US-OVERSTOCK-CALIFORNIA\\n(OVERSTOCK)</td>\n",
       "      <td>17.0</td>\n",
       "      <td>5. WH-Arrival</td>\n",
       "      <td>NaN</td>\n",
       "    </tr>\n",
       "    <tr>\n",
       "      <th>24423</th>\n",
       "      <td>US</td>\n",
       "      <td>SCARGILL DARK GREY Ⅰ</td>\n",
       "      <td>Dining Chair</td>\n",
       "      <td>奈良井</td>\n",
       "      <td>太华天街</td>\n",
       "      <td>0.200</td>\n",
       "      <td>天津</td>\n",
       "      <td>廊坊森雅家具有限公司</td>\n",
       "      <td>US-OVERSTOCK-CALIFORNIA\\n(OVERSTOCK)</td>\n",
       "      <td>88.0</td>\n",
       "      <td>5. WH-Arrival</td>\n",
       "      <td>NaN</td>\n",
       "    </tr>\n",
       "    <tr>\n",
       "      <th>24427</th>\n",
       "      <td>US</td>\n",
       "      <td>SCARGILL YELLOW</td>\n",
       "      <td>Dining Chair</td>\n",
       "      <td>奈良井</td>\n",
       "      <td>太华天街</td>\n",
       "      <td>0.184</td>\n",
       "      <td>天津</td>\n",
       "      <td>廊坊森雅家具有限公司</td>\n",
       "      <td>US-OVERSTOCK-CALIFORNIA\\n(OVERSTOCK)</td>\n",
       "      <td>46.0</td>\n",
       "      <td>5. WH-Arrival</td>\n",
       "      <td>NaN</td>\n",
       "    </tr>\n",
       "    <tr>\n",
       "      <th>24428</th>\n",
       "      <td>US</td>\n",
       "      <td>SMEG ROSE 32MM A</td>\n",
       "      <td>Dining Chair</td>\n",
       "      <td>奈良井</td>\n",
       "      <td>太华天街</td>\n",
       "      <td>0.139</td>\n",
       "      <td>天津</td>\n",
       "      <td>廊坊森雅家具有限公司</td>\n",
       "      <td>US-OVERSTOCK-CALIFORNIA\\n(OVERSTOCK)</td>\n",
       "      <td>46.0</td>\n",
       "      <td>5. WH-Arrival</td>\n",
       "      <td>NaN</td>\n",
       "    </tr>\n",
       "    <tr>\n",
       "      <th>24429</th>\n",
       "      <td>US</td>\n",
       "      <td>SMEG TIAANIUM 32MM A</td>\n",
       "      <td>Dining Chair</td>\n",
       "      <td>奈良井</td>\n",
       "      <td>太华天街</td>\n",
       "      <td>0.139</td>\n",
       "      <td>天津</td>\n",
       "      <td>廊坊森雅家具有限公司</td>\n",
       "      <td>US-OVERSTOCK-CALIFORNIA\\n(OVERSTOCK)</td>\n",
       "      <td>90.0</td>\n",
       "      <td>5. WH-Arrival</td>\n",
       "      <td>NaN</td>\n",
       "    </tr>\n",
       "  </tbody>\n",
       "</table>\n",
       "<p>6684 rows × 12 columns</p>\n",
       "</div>"
      ],
      "text/plain": [
       "      Country              Item Number                Category  \\\n",
       "2116       CA              ADAMS BLACK  Secretary Office Chair   \n",
       "2117       CA              ADAMS BROWN  Secretary Office Chair   \n",
       "2118       CA              ADAMS BROWN  Secretary Office Chair   \n",
       "2120       CA              ALASKA WOOD   Board with Metal Desk   \n",
       "2121       CA                 ALBERTIN  L-Shaped & Corner Desk   \n",
       "...       ...                      ...                     ...   \n",
       "24407      US  ROOKIE ROUND TABLE GREY            Dining Table   \n",
       "24423      US     SCARGILL DARK GREY Ⅰ            Dining Chair   \n",
       "24427      US          SCARGILL YELLOW            Dining Chair   \n",
       "24428      US         SMEG ROSE 32MM A            Dining Chair   \n",
       "24429      US     SMEG TIAANIUM 32MM A            Dining Chair   \n",
       "\n",
       "      Operation detail Department-4    CBM FOB-City         Factory  \\\n",
       "2116        青荇渡_39FINC         太华天街  0.135       宁波      安吉鼎悦家具有限公司   \n",
       "2117               曾厝垵         太华天街  0.135       上海      安吉龙派家具有限公司   \n",
       "2118        青荇渡_39FINC         太华天街  0.135       上海      安吉龙派家具有限公司   \n",
       "2120            名古屋_GX         太华天街  0.105       厦门      漳州红梅家具有限公司   \n",
       "2121        曾厝垵_39FINC         太华天街  0.115       厦门  新佳美(漳州)日用品有限公司   \n",
       "...                ...          ...    ...      ...             ...   \n",
       "24407              奈良井         太华天街  0.114       天津      廊坊赛普贸易有限公司   \n",
       "24423              奈良井         太华天街  0.200       天津      廊坊森雅家具有限公司   \n",
       "24427              奈良井         太华天街  0.184       天津      廊坊森雅家具有限公司   \n",
       "24428              奈良井         太华天街  0.139       天津      廊坊森雅家具有限公司   \n",
       "24429              奈良井         太华天街  0.139       天津      廊坊森雅家具有限公司   \n",
       "\n",
       "                           warehouse detail  InvBal-Qty      Warehouse  \\\n",
       "2116           Cloud Stock\\n(2019年04月01日至今)        50.0    1. WH-Cloud   \n",
       "2117           Cloud Stock\\n(2019年04月01日至今)       200.0    1. WH-Cloud   \n",
       "2118           Cloud Stock\\n(2019年04月01日至今)        50.0    1. WH-Cloud   \n",
       "2120           Cloud Stock\\n(2019年04月01日至今)       300.0    1. WH-Cloud   \n",
       "2121           Cloud Stock\\n(2019年04月01日至今)       300.0    1. WH-Cloud   \n",
       "...                                     ...         ...            ...   \n",
       "24407  US-OVERSTOCK-CALIFORNIA\\n(OVERSTOCK)        17.0  5. WH-Arrival   \n",
       "24423  US-OVERSTOCK-CALIFORNIA\\n(OVERSTOCK)        88.0  5. WH-Arrival   \n",
       "24427  US-OVERSTOCK-CALIFORNIA\\n(OVERSTOCK)        46.0  5. WH-Arrival   \n",
       "24428  US-OVERSTOCK-CALIFORNIA\\n(OVERSTOCK)        46.0  5. WH-Arrival   \n",
       "24429  US-OVERSTOCK-CALIFORNIA\\n(OVERSTOCK)        90.0  5. WH-Arrival   \n",
       "\n",
       "      Internal SKU  \n",
       "2116           NaN  \n",
       "2117           NaN  \n",
       "2118           NaN  \n",
       "2120           NaN  \n",
       "2121           NaN  \n",
       "...            ...  \n",
       "24407          NaN  \n",
       "24423          NaN  \n",
       "24427          NaN  \n",
       "24428          NaN  \n",
       "24429          NaN  \n",
       "\n",
       "[6684 rows x 12 columns]"
      ]
     },
     "execution_count": 72,
     "metadata": {},
     "output_type": "execute_result"
    }
   ],
   "source": [
    "missing = df_wh_after_add_internalSKU[(df_wh_after_add_internalSKU['Country'] == 'US') | (df_wh_after_add_internalSKU['Country'] == 'CA')]\n",
    "\n",
    "missing = missing[missing['Internal SKU'].isnull()]\n",
    "missing"
   ]
  },
  {
   "cell_type": "code",
   "execution_count": null,
   "metadata": {},
   "outputs": [],
   "source": []
  },
  {
   "cell_type": "code",
   "execution_count": null,
   "metadata": {},
   "outputs": [],
   "source": []
  },
  {
   "cell_type": "code",
   "execution_count": null,
   "metadata": {},
   "outputs": [],
   "source": []
  },
  {
   "cell_type": "code",
   "execution_count": null,
   "metadata": {},
   "outputs": [],
   "source": []
  },
  {
   "cell_type": "code",
   "execution_count": null,
   "metadata": {},
   "outputs": [],
   "source": []
  }
 ],
 "metadata": {
  "kernelspec": {
   "display_name": "Python 3",
   "language": "python",
   "name": "python3"
  },
  "language_info": {
   "codemirror_mode": {
    "name": "ipython",
    "version": 3
   },
   "file_extension": ".py",
   "mimetype": "text/x-python",
   "name": "python",
   "nbconvert_exporter": "python",
   "pygments_lexer": "ipython3",
   "version": "3.8.3"
  },
  "varInspector": {
   "cols": {
    "lenName": 16,
    "lenType": 16,
    "lenVar": 40
   },
   "kernels_config": {
    "python": {
     "delete_cmd_postfix": "",
     "delete_cmd_prefix": "del ",
     "library": "var_list.py",
     "varRefreshCmd": "print(var_dic_list())"
    },
    "r": {
     "delete_cmd_postfix": ") ",
     "delete_cmd_prefix": "rm(",
     "library": "var_list.r",
     "varRefreshCmd": "cat(var_dic_list()) "
    }
   },
   "types_to_exclude": [
    "module",
    "function",
    "builtin_function_or_method",
    "instance",
    "_Feature"
   ],
   "window_display": false
  }
 },
 "nbformat": 4,
 "nbformat_minor": 4
}
