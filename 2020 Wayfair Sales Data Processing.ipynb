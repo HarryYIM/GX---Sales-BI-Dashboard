{
 "cells": [
  {
   "cell_type": "code",
   "execution_count": 1,
   "metadata": {
    "ExecuteTime": {
     "end_time": "2021-01-05T01:52:34.175879Z",
     "start_time": "2021-01-05T01:52:33.048544Z"
    }
   },
   "outputs": [],
   "source": [
    "import pandas as pd\n",
    "import numpy as np\n",
    "import re\n",
    "import warnings\n",
    "warnings.filterwarnings(\"ignore\")\n",
    "from datetime import datetime"
   ]
  },
  {
   "cell_type": "code",
   "execution_count": 2,
   "metadata": {
    "ExecuteTime": {
     "end_time": "2021-01-05T01:52:34.212934Z",
     "start_time": "2021-01-05T01:52:34.180315Z"
    }
   },
   "outputs": [
    {
     "data": {
      "text/plain": [
       "'C:\\\\Users\\\\ygy91\\\\Desktop\\\\GX sales report'"
      ]
     },
     "execution_count": 2,
     "metadata": {},
     "output_type": "execute_result"
    }
   ],
   "source": [
    "pwd"
   ]
  },
  {
   "cell_type": "code",
   "execution_count": 3,
   "metadata": {
    "ExecuteTime": {
     "end_time": "2021-01-05T01:52:36.867915Z",
     "start_time": "2021-01-05T01:52:34.221201Z"
    }
   },
   "outputs": [],
   "source": [
    "# import data\n",
    "histo_folder = ['2020 sales']\n",
    "month = ['Jan','Feb','Mar','Apr','May','Jun','Jul','Aug','Sep','Oct','Nov','Dec']\n",
    "\n",
    "temp = []\n",
    "for i in month:\n",
    "    temp.append(pd.read_csv(f'2020 sales//{i}.csv'))\n",
    "df = pd.concat(temp).reset_index(drop = True)"
   ]
  },
  {
   "cell_type": "code",
   "execution_count": 4,
   "metadata": {
    "ExecuteTime": {
     "end_time": "2021-01-05T01:52:36.886554Z",
     "start_time": "2021-01-05T01:52:36.872231Z"
    }
   },
   "outputs": [],
   "source": [
    "# drop unneeded columns\n",
    "col_drop = ['Warehouse Name', 'Must Ship By', 'Backorder Date', 'Shipping Account Number', 'Ship To Address', 'Ship To Address 2',\n",
    "            'Ship To Zip', 'Ship To Phone', 'Inventory Send Date', 'Registered Timestamp', 'Customization Text', 'Event Name',\n",
    "            'Event ID', 'Event Start Date', 'Event End Date', 'Event Type', 'Backorder Reason', 'Original Product ID', \n",
    "            'Original Product Name', 'Event Inventory Source', 'Packing Slip URL', 'Tracking Number', 'Ready for Pickup Date',\n",
    "            'Destination Country', 'Depot ID', 'Depot Name', 'Wholesale Event Source', 'Wholesale Event Store Source', \n",
    "            'Composite Wood Product', 'Sales Channel']"
   ]
  },
  {
   "cell_type": "code",
   "execution_count": 5,
   "metadata": {
    "ExecuteTime": {
     "end_time": "2021-01-05T01:52:36.965337Z",
     "start_time": "2021-01-05T01:52:36.889698Z"
    }
   },
   "outputs": [],
   "source": [
    "df.drop(col_drop, axis = 1, inplace = True)"
   ]
  },
  {
   "cell_type": "code",
   "execution_count": 6,
   "metadata": {
    "ExecuteTime": {
     "end_time": "2021-01-05T01:52:47.387308Z",
     "start_time": "2021-01-05T01:52:36.969526Z"
    },
    "scrolled": false
   },
   "outputs": [],
   "source": [
    "# Date Cleaning\n",
    "date_col = ['PO Date', 'Must Ship By', 'Backorder Date']\n",
    "\n",
    "df['PO Date'] = df.apply(lambda x: datetime.strptime(x['PO Date'],'%m/%d/%Y'), axis = 1)\n",
    "df['Month'] = df.apply(lambda x: x['PO Date'].month, axis = 1)"
   ]
  },
  {
   "cell_type": "code",
   "execution_count": 7,
   "metadata": {
    "ExecuteTime": {
     "end_time": "2021-01-05T01:52:47.395263Z",
     "start_time": "2021-01-05T01:52:47.391296Z"
    },
    "scrolled": true
   },
   "outputs": [],
   "source": [
    "# add category\n",
    "# cate = pd.read_excel('sup source//category.xlsx', sheet_name = 'Category')\n",
    "# df = df.merge(cate[['Item Name', 'Category']], on = 'Item Name', how = 'left')"
   ]
  },
  {
   "cell_type": "code",
   "execution_count": 8,
   "metadata": {
    "ExecuteTime": {
     "end_time": "2021-01-05T01:52:51.147621Z",
     "start_time": "2021-01-05T01:52:47.402375Z"
    }
   },
   "outputs": [],
   "source": [
    "# clean Item Number\n",
    "df['Item Number'] = df.apply(lambda x: x['Item Number'][2:-1], axis = 1)"
   ]
  },
  {
   "cell_type": "code",
   "execution_count": 9,
   "metadata": {
    "ExecuteTime": {
     "end_time": "2021-01-05T01:52:51.243483Z",
     "start_time": "2021-01-05T01:52:51.152407Z"
    }
   },
   "outputs": [],
   "source": [
    "# clean PO Date & Time\n",
    "df['PO Time'] = df['PO Date & Time'].str[11:13]"
   ]
  },
  {
   "cell_type": "markdown",
   "metadata": {},
   "source": [
    "---"
   ]
  },
  {
   "cell_type": "code",
   "execution_count": 10,
   "metadata": {
    "ExecuteTime": {
     "end_time": "2021-01-05T01:52:51.267394Z",
     "start_time": "2021-01-05T01:52:51.247288Z"
    }
   },
   "outputs": [],
   "source": [
    "# process product info\n",
    "\n",
    "df_pi = pd.read_csv('sup source//product info.csv')"
   ]
  },
  {
   "cell_type": "code",
   "execution_count": 11,
   "metadata": {
    "ExecuteTime": {
     "end_time": "2021-01-05T01:52:51.341544Z",
     "start_time": "2021-01-05T01:52:51.271620Z"
    }
   },
   "outputs": [],
   "source": [
    "df_pi['review & rating'] = df_pi.apply(lambda x: str(x['rating']).strip(str(x['Item Name'])), axis = 1)"
   ]
  },
  {
   "cell_type": "code",
   "execution_count": 12,
   "metadata": {
    "ExecuteTime": {
     "end_time": "2021-01-05T01:52:51.359047Z",
     "start_time": "2021-01-05T01:52:51.342539Z"
    }
   },
   "outputs": [],
   "source": [
    "p = re.compile(r'[(](.*?)[)]', re.S)"
   ]
  },
  {
   "cell_type": "code",
   "execution_count": 13,
   "metadata": {
    "ExecuteTime": {
     "end_time": "2021-01-05T01:52:51.477587Z",
     "start_time": "2021-01-05T01:52:51.360988Z"
    }
   },
   "outputs": [],
   "source": [
    "df_pi['Review'] = df_pi.apply(lambda x: 0\n",
    "                        if re.findall(p, x['review & rating']) == [] \n",
    "                        else re.findall(p, x['review & rating'])[0], axis =1 )"
   ]
  },
  {
   "cell_type": "code",
   "execution_count": 14,
   "metadata": {
    "ExecuteTime": {
     "end_time": "2021-01-05T01:52:51.582694Z",
     "start_time": "2021-01-05T01:52:51.481768Z"
    }
   },
   "outputs": [],
   "source": [
    "df_pi['Rating'] = df_pi.apply(lambda x: x['review & rating'][x['review & rating'].index(':')+1:] if ':' in x['review & rating'] else 0, axis = 1)"
   ]
  },
  {
   "cell_type": "code",
   "execution_count": 15,
   "metadata": {
    "ExecuteTime": {
     "end_time": "2021-01-05T01:52:51.679728Z",
     "start_time": "2021-01-05T01:52:51.586489Z"
    }
   },
   "outputs": [],
   "source": [
    "df_pi['Date Launched'] = df_pi.apply(lambda x: datetime.strptime(x['Date Launched'],'%m/%d/%Y'), axis = 1)"
   ]
  },
  {
   "cell_type": "code",
   "execution_count": 16,
   "metadata": {
    "ExecuteTime": {
     "end_time": "2021-01-05T01:52:51.719466Z",
     "start_time": "2021-01-05T01:52:51.682718Z"
    }
   },
   "outputs": [],
   "source": [
    "df_pi = df_pi[['SKU','Date Launched','Satus','Review','Rating']].drop_duplicates()"
   ]
  },
  {
   "cell_type": "code",
   "execution_count": 17,
   "metadata": {
    "ExecuteTime": {
     "end_time": "2021-01-05T01:52:51.767072Z",
     "start_time": "2021-01-05T01:52:51.723630Z"
    }
   },
   "outputs": [
    {
     "data": {
      "text/html": [
       "<div>\n",
       "<style scoped>\n",
       "    .dataframe tbody tr th:only-of-type {\n",
       "        vertical-align: middle;\n",
       "    }\n",
       "\n",
       "    .dataframe tbody tr th {\n",
       "        vertical-align: top;\n",
       "    }\n",
       "\n",
       "    .dataframe thead th {\n",
       "        text-align: right;\n",
       "    }\n",
       "</style>\n",
       "<table border=\"1\" class=\"dataframe\">\n",
       "  <thead>\n",
       "    <tr style=\"text-align: right;\">\n",
       "      <th></th>\n",
       "      <th>SKU</th>\n",
       "      <th>Date Launched</th>\n",
       "      <th>Satus</th>\n",
       "      <th>Review</th>\n",
       "      <th>Rating</th>\n",
       "    </tr>\n",
       "  </thead>\n",
       "  <tbody>\n",
       "    <tr>\n",
       "      <th>0</th>\n",
       "      <td>TNFI2298</td>\n",
       "      <td>2020-11-30</td>\n",
       "      <td>Live</td>\n",
       "      <td>0</td>\n",
       "      <td>0</td>\n",
       "    </tr>\n",
       "    <tr>\n",
       "      <th>1</th>\n",
       "      <td>TNFI2230</td>\n",
       "      <td>2020-10-02</td>\n",
       "      <td>Live</td>\n",
       "      <td>0</td>\n",
       "      <td>0</td>\n",
       "    </tr>\n",
       "    <tr>\n",
       "      <th>2</th>\n",
       "      <td>TNFI2240</td>\n",
       "      <td>2020-10-02</td>\n",
       "      <td>Live</td>\n",
       "      <td>0</td>\n",
       "      <td>0</td>\n",
       "    </tr>\n",
       "    <tr>\n",
       "      <th>3</th>\n",
       "      <td>TNFI2236</td>\n",
       "      <td>2020-10-02</td>\n",
       "      <td>Live</td>\n",
       "      <td>0</td>\n",
       "      <td>0</td>\n",
       "    </tr>\n",
       "    <tr>\n",
       "      <th>4</th>\n",
       "      <td>TNFI2235</td>\n",
       "      <td>2020-10-02</td>\n",
       "      <td>Live</td>\n",
       "      <td>0</td>\n",
       "      <td>0</td>\n",
       "    </tr>\n",
       "    <tr>\n",
       "      <th>...</th>\n",
       "      <td>...</td>\n",
       "      <td>...</td>\n",
       "      <td>...</td>\n",
       "      <td>...</td>\n",
       "      <td>...</td>\n",
       "    </tr>\n",
       "    <tr>\n",
       "      <th>790</th>\n",
       "      <td>TNFI1014</td>\n",
       "      <td>2018-03-28</td>\n",
       "      <td>Live</td>\n",
       "      <td>9</td>\n",
       "      <td>4.4</td>\n",
       "    </tr>\n",
       "    <tr>\n",
       "      <th>791</th>\n",
       "      <td>HAZE2464</td>\n",
       "      <td>2017-09-11</td>\n",
       "      <td>Live</td>\n",
       "      <td>8</td>\n",
       "      <td>4.9</td>\n",
       "    </tr>\n",
       "    <tr>\n",
       "      <th>792</th>\n",
       "      <td>HAZE2467</td>\n",
       "      <td>2017-09-11</td>\n",
       "      <td>Live</td>\n",
       "      <td>445</td>\n",
       "      <td>4.2</td>\n",
       "    </tr>\n",
       "    <tr>\n",
       "      <th>793</th>\n",
       "      <td>HAZE2468</td>\n",
       "      <td>2017-09-11</td>\n",
       "      <td>Live</td>\n",
       "      <td>1508</td>\n",
       "      <td>4.8</td>\n",
       "    </tr>\n",
       "    <tr>\n",
       "      <th>794</th>\n",
       "      <td>HAZE2466</td>\n",
       "      <td>2017-09-11</td>\n",
       "      <td>Live</td>\n",
       "      <td>463</td>\n",
       "      <td>4.8</td>\n",
       "    </tr>\n",
       "  </tbody>\n",
       "</table>\n",
       "<p>793 rows × 5 columns</p>\n",
       "</div>"
      ],
      "text/plain": [
       "          SKU Date Launched Satus Review Rating\n",
       "0    TNFI2298    2020-11-30  Live      0      0\n",
       "1    TNFI2230    2020-10-02  Live      0      0\n",
       "2    TNFI2240    2020-10-02  Live      0      0\n",
       "3    TNFI2236    2020-10-02  Live      0      0\n",
       "4    TNFI2235    2020-10-02  Live      0      0\n",
       "..        ...           ...   ...    ...    ...\n",
       "790  TNFI1014    2018-03-28  Live      9    4.4\n",
       "791  HAZE2464    2017-09-11  Live      8    4.9\n",
       "792  HAZE2467    2017-09-11  Live    445    4.2\n",
       "793  HAZE2468    2017-09-11  Live   1508    4.8\n",
       "794  HAZE2466    2017-09-11  Live    463    4.8\n",
       "\n",
       "[793 rows x 5 columns]"
      ]
     },
     "execution_count": 17,
     "metadata": {},
     "output_type": "execute_result"
    }
   ],
   "source": [
    "df_pi"
   ]
  },
  {
   "cell_type": "code",
   "execution_count": 18,
   "metadata": {
    "ExecuteTime": {
     "end_time": "2021-01-05T01:52:52.019810Z",
     "start_time": "2021-01-05T01:52:51.770064Z"
    }
   },
   "outputs": [],
   "source": [
    "df=df.merge(df_pi, on ='SKU',how = 'left')"
   ]
  },
  {
   "cell_type": "markdown",
   "metadata": {
    "ExecuteTime": {
     "end_time": "2020-12-30T01:15:00.883179Z",
     "start_time": "2020-12-30T01:15:00.853922Z"
    }
   },
   "source": [
    "---"
   ]
  },
  {
   "cell_type": "markdown",
   "metadata": {},
   "source": [
    "## Inventory"
   ]
  },
  {
   "cell_type": "code",
   "execution_count": 19,
   "metadata": {
    "ExecuteTime": {
     "end_time": "2021-01-05T01:52:52.046336Z",
     "start_time": "2021-01-05T01:52:52.021871Z"
    }
   },
   "outputs": [
    {
     "data": {
      "text/plain": [
       "'C:\\\\Users\\\\ygy91\\\\Desktop\\\\GX sales report'"
      ]
     },
     "execution_count": 19,
     "metadata": {},
     "output_type": "execute_result"
    }
   ],
   "source": [
    "pwd"
   ]
  },
  {
   "cell_type": "code",
   "execution_count": 20,
   "metadata": {
    "ExecuteTime": {
     "end_time": "2021-01-05T01:54:00.118944Z",
     "start_time": "2021-01-05T01:52:52.049362Z"
    }
   },
   "outputs": [],
   "source": [
    "df_inv = pd.read_excel('inventory//20210104全球库存统计及补货计划表.xlsx', sheet_name = '入库商家补货计划表')\n",
    "\n",
    "# data cleaning : 'Ⅰ'\n",
    "df_inv['对应账号SKU'] = df_inv.apply(lambda x: str(x['对应账号SKU']).replace('Ⅰ','I'), axis =1 )"
   ]
  },
  {
   "cell_type": "code",
   "execution_count": 21,
   "metadata": {
    "ExecuteTime": {
     "end_time": "2021-01-05T01:54:00.159736Z",
     "start_time": "2021-01-05T01:54:00.120940Z"
    }
   },
   "outputs": [],
   "source": [
    "# clean 'Spare Parts'\n",
    "df_inv = df_inv[df_inv['类别category'] != 'Spare Parts']"
   ]
  },
  {
   "cell_type": "code",
   "execution_count": 22,
   "metadata": {
    "ExecuteTime": {
     "end_time": "2021-01-05T01:54:00.176837Z",
     "start_time": "2021-01-05T01:54:00.161162Z"
    }
   },
   "outputs": [],
   "source": [
    "# 1. good columns\n",
    "\n",
    "cols = ['国家', '对应账号SKU', '类别category',   '销量趋势(前30天对比（前60天到前30天）销量)',\n",
    "        '第一次断货时间', '第二次断货时间', '要求ETD', '要求验货时间',\n",
    "        '要求完工时间\\n订舱\\n调拨单', '要求下单时间', '建议下单数量', '货号', '入库商家',\n",
    "       '机构', '四字机构', 'CBM', 'FOB出运港', '工厂']\n",
    "\n",
    "warehouses = ['Cloud Stock\\n(2019年04月01日至今)',\n",
    "               'ComingSoon\\n(2019年04月01日至今)', 'Ship Now\\n(2019年04月01日至今)',\n",
    "               'On the Way',\n",
    "               'On the Way 2\\n(Wayfair-Castle Gate仓\\n US-Castle Gate仓\\n CA - Castle Gate仓\\n WAYFAIR-DE\\n WAYFAIR-FR\\n WAYFAIR-UK)',\n",
    "               '仓1', '仓2', '仓3', 'Castle Gate仓', 'FBA仓',\n",
    "               'FBC仓\\n(对于MX，此列为FBM仓【Mercado Libre平台库存】)',\n",
    "               '出口易库存仓1\\n(对于US 美国，仓1为【美国库存】,\\n对于CA 加拿大，仓1为【加拿大库存】)\\n对于EU 欧洲，仓1为【英国库存】)',\n",
    "               '出口易库存仓2\\n(对于EU 欧洲，仓2为【法国库存】)', '出口易库存仓3\\n(对于EU 欧洲，仓3为【德国库存】)', 'K2',\n",
    "               '天池(FR LVA)', '兼爱(FR LBG)', '说剑(US SNA)', '美东一海通（天下）\\n(US ATL)',\n",
    "               '美东（天运）\\n(US PHL)', '美西一海通（达生）\\n(US BUR)', '美西（天道）\\n(US LSQ)',\n",
    "               '圆融汇通英国(让王)\\n(UK MAN)', '圆融汇通（逍遥）\\n(CA YTZ)', '德国嘉宏（山木）\\n(DE DUS)',\n",
    "               '大森林（宗师）\\n(FR BVA)', 'Castle\\n(OVERSTOCK)', 'CPA\\n(OVERSTOCK)',\n",
    "               'WKC\\n(OVERSTOCK)', 'US-OVERSTOCK-CALIFORNIA\\n(OVERSTOCK)',\n",
    "               '公冶(FR BOD)', 'Groupon仓\\n(NL AMS)']"
   ]
  },
  {
   "cell_type": "code",
   "execution_count": 23,
   "metadata": {
    "ExecuteTime": {
     "end_time": "2021-01-05T01:54:01.373430Z",
     "start_time": "2021-01-05T01:54:00.186689Z"
    }
   },
   "outputs": [],
   "source": [
    "df_unpivot = df_inv.melt(id_vars = cols, value_vars = warehouses, var_name = 'warehouses')"
   ]
  },
  {
   "cell_type": "code",
   "execution_count": 24,
   "metadata": {
    "ExecuteTime": {
     "end_time": "2021-01-05T01:54:01.397428Z",
     "start_time": "2021-01-05T01:54:01.380745Z"
    }
   },
   "outputs": [],
   "source": [
    "map_WH  =   {'1. WH-Cloud': ['Cloud Stock\\n(2019年04月01日至今)'],\n",
    "             '2. WH-Coming': [\"ComingSoon\\n(2019年04月01日至今)\"],\n",
    "             '3. WH-ReadyToShip': ['Ship Now\\n(2019年04月01日至今)'],\n",
    "             '4. On the Way': ['On the Way', 'On the Way 2\\n(Wayfair-Castle Gate仓\\n US-Castle Gate仓\\n CA - Castle Gate仓\\n WAYFAIR-DE\\n WAYFAIR-FR\\n WAYFAIR-UK)'],\n",
    "             '5. WH-Arrival': ['仓1', '仓2', '仓3', 'Castle Gate仓', 'FBA仓',\n",
    "                     'FBC仓\\n(对于MX，此列为FBM仓【Mercado Libre平台库存】)',\n",
    "                     '出口易库存仓1\\n(对于US 美国，仓1为【美国库存】,\\n对于CA 加拿大，仓1为【加拿大库存】)\\n对于EU 欧洲，仓1为【英国库存】)',\n",
    "                     '出口易库存仓2\\n(对于EU 欧洲，仓2为【法国库存】)', '出口易库存仓3\\n(对于EU 欧洲，仓3为【德国库存】)',\n",
    "                     'K2', '天池(FR LVA)', '兼爱(FR LBG)', '说剑(US SNA)',\n",
    "                     '美东一海通（天下）\\n(US ATL)', '美东（天运）\\n(US PHL)', '美西一海通（达生）\\n(US BUR)',\n",
    "                     '美西（天道）\\n(US LSQ)', '圆融汇通英国(让王)\\n(UK MAN)', '圆融汇通（逍遥）\\n(CA YTZ)',\n",
    "                     '德国嘉宏（山木）\\n(DE DUS)', '大森林（宗师）\\n(FR BVA)', 'Castle\\n(OVERSTOCK)',\n",
    "                     'CPA\\n(OVERSTOCK)', 'WKC\\n(OVERSTOCK)',\n",
    "                     'US-OVERSTOCK-CALIFORNIA\\n(OVERSTOCK)', '公冶(FR BOD)',\n",
    "                     'Groupon仓\\n(NL AMS)']}"
   ]
  },
  {
   "cell_type": "code",
   "execution_count": 25,
   "metadata": {
    "ExecuteTime": {
     "end_time": "2021-01-05T01:54:01.426580Z",
     "start_time": "2021-01-05T01:54:01.400714Z"
    }
   },
   "outputs": [
    {
     "data": {
      "text/plain": [
       "Index(['国家', '对应账号SKU', '类别category', '销量趋势(前30天对比（前60天到前30天）销量)', '第一次断货时间',\n",
       "       '第二次断货时间', '要求ETD', '要求验货时间', '要求完工时间\\n订舱\\n调拨单', '要求下单时间', '建议下单数量',\n",
       "       '货号', '入库商家', '机构', '四字机构', 'CBM', 'FOB出运港', '工厂', 'warehouses',\n",
       "       'value'],\n",
       "      dtype='object')"
      ]
     },
     "execution_count": 25,
     "metadata": {},
     "output_type": "execute_result"
    }
   ],
   "source": [
    "# select columns\n",
    "df_unpivot.columns"
   ]
  },
  {
   "cell_type": "code",
   "execution_count": 26,
   "metadata": {
    "ExecuteTime": {
     "end_time": "2021-01-05T01:54:01.766541Z",
     "start_time": "2021-01-05T01:54:01.430677Z"
    }
   },
   "outputs": [],
   "source": [
    "df_wh = df_unpivot[['国家', '对应账号SKU', '类别category', '机构', '四字机构', 'CBM', 'FOB出运港', \n",
    "                    '入库商家', '工厂', 'warehouses', 'value']]\n",
    "\n",
    "df_wh.columns = ['Country', 'Item Number', 'Category', 'Operation detail', 'Department-4', \n",
    "              'CBM', 'FOB-City', 'platform', 'Factory', 'warehouse detail', 'InvBal-Qty']\n",
    "\n",
    "df_wh = df_wh[df_wh['InvBal-Qty'].notnull()].reset_index(drop=True)"
   ]
  },
  {
   "cell_type": "code",
   "execution_count": 27,
   "metadata": {
    "ExecuteTime": {
     "end_time": "2021-01-05T01:54:01.781838Z",
     "start_time": "2021-01-05T01:54:01.770529Z"
    }
   },
   "outputs": [
    {
     "data": {
      "text/plain": [
       "dict_keys(['1. WH-Cloud', '2. WH-Coming', '3. WH-ReadyToShip', '4. On the Way', '5. WH-Arrival'])"
      ]
     },
     "execution_count": 27,
     "metadata": {},
     "output_type": "execute_result"
    }
   ],
   "source": [
    "map_WH.keys()"
   ]
  },
  {
   "cell_type": "code",
   "execution_count": 28,
   "metadata": {
    "ExecuteTime": {
     "end_time": "2021-01-05T01:54:01.857636Z",
     "start_time": "2021-01-05T01:54:01.786576Z"
    }
   },
   "outputs": [],
   "source": [
    "maps = []\n",
    "\n",
    "for i in map_WH:\n",
    "    temp = pd.DataFrame(map_WH[i], columns=['warehouse detail'])\n",
    "    temp['Warehouse'] = i\n",
    "    maps.append(temp)\n",
    "\n",
    "maps_wh = pd.concat(maps).reset_index(drop = True)\n"
   ]
  },
  {
   "cell_type": "code",
   "execution_count": 29,
   "metadata": {
    "ExecuteTime": {
     "end_time": "2021-01-05T01:54:01.883788Z",
     "start_time": "2021-01-05T01:54:01.859634Z"
    }
   },
   "outputs": [
    {
     "data": {
      "text/html": [
       "<div>\n",
       "<style scoped>\n",
       "    .dataframe tbody tr th:only-of-type {\n",
       "        vertical-align: middle;\n",
       "    }\n",
       "\n",
       "    .dataframe tbody tr th {\n",
       "        vertical-align: top;\n",
       "    }\n",
       "\n",
       "    .dataframe thead th {\n",
       "        text-align: right;\n",
       "    }\n",
       "</style>\n",
       "<table border=\"1\" class=\"dataframe\">\n",
       "  <thead>\n",
       "    <tr style=\"text-align: right;\">\n",
       "      <th></th>\n",
       "      <th>warehouse detail</th>\n",
       "      <th>Warehouse</th>\n",
       "    </tr>\n",
       "  </thead>\n",
       "  <tbody>\n",
       "    <tr>\n",
       "      <th>0</th>\n",
       "      <td>Cloud Stock\\n(2019年04月01日至今)</td>\n",
       "      <td>1. WH-Cloud</td>\n",
       "    </tr>\n",
       "    <tr>\n",
       "      <th>1</th>\n",
       "      <td>ComingSoon\\n(2019年04月01日至今)</td>\n",
       "      <td>2. WH-Coming</td>\n",
       "    </tr>\n",
       "    <tr>\n",
       "      <th>2</th>\n",
       "      <td>Ship Now\\n(2019年04月01日至今)</td>\n",
       "      <td>3. WH-ReadyToShip</td>\n",
       "    </tr>\n",
       "    <tr>\n",
       "      <th>3</th>\n",
       "      <td>On the Way</td>\n",
       "      <td>4. On the Way</td>\n",
       "    </tr>\n",
       "    <tr>\n",
       "      <th>4</th>\n",
       "      <td>On the Way 2\\n(Wayfair-Castle Gate仓\\n US-Castl...</td>\n",
       "      <td>4. On the Way</td>\n",
       "    </tr>\n",
       "  </tbody>\n",
       "</table>\n",
       "</div>"
      ],
      "text/plain": [
       "                                    warehouse detail          Warehouse\n",
       "0                       Cloud Stock\\n(2019年04月01日至今)        1. WH-Cloud\n",
       "1                        ComingSoon\\n(2019年04月01日至今)       2. WH-Coming\n",
       "2                          Ship Now\\n(2019年04月01日至今)  3. WH-ReadyToShip\n",
       "3                                         On the Way      4. On the Way\n",
       "4  On the Way 2\\n(Wayfair-Castle Gate仓\\n US-Castl...      4. On the Way"
      ]
     },
     "execution_count": 29,
     "metadata": {},
     "output_type": "execute_result"
    }
   ],
   "source": [
    "maps_wh.head()"
   ]
  },
  {
   "cell_type": "code",
   "execution_count": 30,
   "metadata": {
    "ExecuteTime": {
     "end_time": "2021-01-05T01:54:01.936811Z",
     "start_time": "2021-01-05T01:54:01.888730Z"
    }
   },
   "outputs": [],
   "source": [
    "df_wh = df_wh.merge(maps_wh, on = 'warehouse detail', how = 'left')"
   ]
  },
  {
   "cell_type": "code",
   "execution_count": 31,
   "metadata": {
    "ExecuteTime": {
     "end_time": "2021-01-05T01:54:02.001675Z",
     "start_time": "2021-01-05T01:54:01.936811Z"
    }
   },
   "outputs": [
    {
     "data": {
      "text/html": [
       "<div>\n",
       "<style scoped>\n",
       "    .dataframe tbody tr th:only-of-type {\n",
       "        vertical-align: middle;\n",
       "    }\n",
       "\n",
       "    .dataframe tbody tr th {\n",
       "        vertical-align: top;\n",
       "    }\n",
       "\n",
       "    .dataframe thead th {\n",
       "        text-align: right;\n",
       "    }\n",
       "</style>\n",
       "<table border=\"1\" class=\"dataframe\">\n",
       "  <thead>\n",
       "    <tr style=\"text-align: right;\">\n",
       "      <th></th>\n",
       "      <th>Country</th>\n",
       "      <th>Item Number</th>\n",
       "      <th>Category</th>\n",
       "      <th>Operation detail</th>\n",
       "      <th>Department-4</th>\n",
       "      <th>CBM</th>\n",
       "      <th>FOB-City</th>\n",
       "      <th>platform</th>\n",
       "      <th>Factory</th>\n",
       "      <th>warehouse detail</th>\n",
       "      <th>InvBal-Qty</th>\n",
       "      <th>Warehouse</th>\n",
       "    </tr>\n",
       "  </thead>\n",
       "  <tbody>\n",
       "    <tr>\n",
       "      <th>0</th>\n",
       "      <td>EU</td>\n",
       "      <td>ACER HM</td>\n",
       "      <td>Board with Metal Desk</td>\n",
       "      <td>梵蒂冈F1</td>\n",
       "      <td>协和广场</td>\n",
       "      <td>0.071</td>\n",
       "      <td>厦门</td>\n",
       "      <td>FDG</td>\n",
       "      <td>福建红梅家具有限公司</td>\n",
       "      <td>Cloud Stock\\n(2019年04月01日至今)</td>\n",
       "      <td>40.0</td>\n",
       "      <td>1. WH-Cloud</td>\n",
       "    </tr>\n",
       "    <tr>\n",
       "      <th>1</th>\n",
       "      <td>EU</td>\n",
       "      <td>ADOMO GLASS</td>\n",
       "      <td>Coffee Table Set</td>\n",
       "      <td>杨柳岸</td>\n",
       "      <td>协和广场</td>\n",
       "      <td>0.029</td>\n",
       "      <td>厦门</td>\n",
       "      <td>YLA_Willow_Fit@Home</td>\n",
       "      <td>福建红梅家具有限公司</td>\n",
       "      <td>Cloud Stock\\n(2019年04月01日至今)</td>\n",
       "      <td>600.0</td>\n",
       "      <td>1. WH-Cloud</td>\n",
       "    </tr>\n",
       "    <tr>\n",
       "      <th>2</th>\n",
       "      <td>EU</td>\n",
       "      <td>ADOMO WOOD</td>\n",
       "      <td>Coffee Table Set</td>\n",
       "      <td>杨柳岸</td>\n",
       "      <td>协和广场</td>\n",
       "      <td>0.029</td>\n",
       "      <td>厦门</td>\n",
       "      <td>YLA_Willow_Fit@Home</td>\n",
       "      <td>福建红梅家具有限公司</td>\n",
       "      <td>Cloud Stock\\n(2019年04月01日至今)</td>\n",
       "      <td>600.0</td>\n",
       "      <td>1. WH-Cloud</td>\n",
       "    </tr>\n",
       "    <tr>\n",
       "      <th>3</th>\n",
       "      <td>EU</td>\n",
       "      <td>ADRINA DOUBLE BLACK C</td>\n",
       "      <td>Double Bed</td>\n",
       "      <td>七泷津</td>\n",
       "      <td>渔人码头</td>\n",
       "      <td>0.048</td>\n",
       "      <td>南京</td>\n",
       "      <td>QLJ_Nanadaru_FURNITURER INC</td>\n",
       "      <td>安徽菲雷克斯科技发展有限公司</td>\n",
       "      <td>Cloud Stock\\n(2019年04月01日至今)</td>\n",
       "      <td>200.0</td>\n",
       "      <td>1. WH-Cloud</td>\n",
       "    </tr>\n",
       "    <tr>\n",
       "      <th>4</th>\n",
       "      <td>EU</td>\n",
       "      <td>ADRINA DOUBLE WHITE A</td>\n",
       "      <td>Double Bed</td>\n",
       "      <td>琅琊圃_FURNITURER INC</td>\n",
       "      <td>渔人码头</td>\n",
       "      <td>0.048</td>\n",
       "      <td>厦门</td>\n",
       "      <td>LYP_Lunar Pool_FURNITURER INC</td>\n",
       "      <td>福建红梅家具有限公司</td>\n",
       "      <td>Cloud Stock\\n(2019年04月01日至今)</td>\n",
       "      <td>500.0</td>\n",
       "      <td>1. WH-Cloud</td>\n",
       "    </tr>\n",
       "    <tr>\n",
       "      <th>...</th>\n",
       "      <td>...</td>\n",
       "      <td>...</td>\n",
       "      <td>...</td>\n",
       "      <td>...</td>\n",
       "      <td>...</td>\n",
       "      <td>...</td>\n",
       "      <td>...</td>\n",
       "      <td>...</td>\n",
       "      <td>...</td>\n",
       "      <td>...</td>\n",
       "      <td>...</td>\n",
       "      <td>...</td>\n",
       "    </tr>\n",
       "    <tr>\n",
       "      <th>23769</th>\n",
       "      <td>EU</td>\n",
       "      <td>MATAPOURI BLACK LT</td>\n",
       "      <td>Metal Locker</td>\n",
       "      <td>凯旋门_Furnish 1</td>\n",
       "      <td>木樨雨轩</td>\n",
       "      <td>0.128</td>\n",
       "      <td>青岛</td>\n",
       "      <td>KXM_GFBG_Furnish 1</td>\n",
       "      <td>洛阳莱特柜业（集团）有限公司</td>\n",
       "      <td>Groupon仓\\n(NL AMS)</td>\n",
       "      <td>3.0</td>\n",
       "      <td>5. WH-Arrival</td>\n",
       "    </tr>\n",
       "    <tr>\n",
       "      <th>23770</th>\n",
       "      <td>EU</td>\n",
       "      <td>MATAPOURI DARK GREY LT</td>\n",
       "      <td>Metal Locker</td>\n",
       "      <td>凯旋门_Furnish 1</td>\n",
       "      <td>木樨雨轩</td>\n",
       "      <td>0.128</td>\n",
       "      <td>青岛</td>\n",
       "      <td>KXM_GFBG_Furnish 1</td>\n",
       "      <td>洛阳莱特柜业（集团）有限公司</td>\n",
       "      <td>Groupon仓\\n(NL AMS)</td>\n",
       "      <td>16.0</td>\n",
       "      <td>5. WH-Arrival</td>\n",
       "    </tr>\n",
       "    <tr>\n",
       "      <th>23771</th>\n",
       "      <td>EU</td>\n",
       "      <td>MATAPOURI GREEN LT</td>\n",
       "      <td>Metal Locker</td>\n",
       "      <td>凯旋门_Furnish 1</td>\n",
       "      <td>木樨雨轩</td>\n",
       "      <td>0.128</td>\n",
       "      <td>青岛</td>\n",
       "      <td>KXM_GFBG_Furnish 1</td>\n",
       "      <td>洛阳莱特柜业（集团）有限公司</td>\n",
       "      <td>Groupon仓\\n(NL AMS)</td>\n",
       "      <td>16.0</td>\n",
       "      <td>5. WH-Arrival</td>\n",
       "    </tr>\n",
       "    <tr>\n",
       "      <th>23772</th>\n",
       "      <td>EU</td>\n",
       "      <td>MATAPOURI RED LT</td>\n",
       "      <td>Metal Locker</td>\n",
       "      <td>凯旋门_Furnish 1</td>\n",
       "      <td>木樨雨轩</td>\n",
       "      <td>0.128</td>\n",
       "      <td>青岛</td>\n",
       "      <td>KXM_GFBG_Furnish 1</td>\n",
       "      <td>洛阳莱特柜业（集团）有限公司</td>\n",
       "      <td>Groupon仓\\n(NL AMS)</td>\n",
       "      <td>13.0</td>\n",
       "      <td>5. WH-Arrival</td>\n",
       "    </tr>\n",
       "    <tr>\n",
       "      <th>23773</th>\n",
       "      <td>EU</td>\n",
       "      <td>MATAPOURI WHITE LT</td>\n",
       "      <td>Metal Locker</td>\n",
       "      <td>凯旋门_Furnish 1</td>\n",
       "      <td>木樨雨轩</td>\n",
       "      <td>0.128</td>\n",
       "      <td>青岛</td>\n",
       "      <td>KXM_GFBG_Furnish 1</td>\n",
       "      <td>洛阳莱特柜业（集团）有限公司</td>\n",
       "      <td>Groupon仓\\n(NL AMS)</td>\n",
       "      <td>68.0</td>\n",
       "      <td>5. WH-Arrival</td>\n",
       "    </tr>\n",
       "  </tbody>\n",
       "</table>\n",
       "<p>23774 rows × 12 columns</p>\n",
       "</div>"
      ],
      "text/plain": [
       "      Country             Item Number               Category  \\\n",
       "0          EU                 ACER HM  Board with Metal Desk   \n",
       "1          EU             ADOMO GLASS       Coffee Table Set   \n",
       "2          EU              ADOMO WOOD       Coffee Table Set   \n",
       "3          EU   ADRINA DOUBLE BLACK C             Double Bed   \n",
       "4          EU   ADRINA DOUBLE WHITE A             Double Bed   \n",
       "...       ...                     ...                    ...   \n",
       "23769      EU      MATAPOURI BLACK LT           Metal Locker   \n",
       "23770      EU  MATAPOURI DARK GREY LT           Metal Locker   \n",
       "23771      EU      MATAPOURI GREEN LT           Metal Locker   \n",
       "23772      EU        MATAPOURI RED LT           Metal Locker   \n",
       "23773      EU      MATAPOURI WHITE LT           Metal Locker   \n",
       "\n",
       "         Operation detail Department-4    CBM FOB-City  \\\n",
       "0                   梵蒂冈F1         协和广场  0.071       厦门   \n",
       "1                     杨柳岸         协和广场  0.029       厦门   \n",
       "2                     杨柳岸         协和广场  0.029       厦门   \n",
       "3                     七泷津         渔人码头  0.048       南京   \n",
       "4      琅琊圃_FURNITURER INC         渔人码头  0.048       厦门   \n",
       "...                   ...          ...    ...      ...   \n",
       "23769       凯旋门_Furnish 1         木樨雨轩  0.128       青岛   \n",
       "23770       凯旋门_Furnish 1         木樨雨轩  0.128       青岛   \n",
       "23771       凯旋门_Furnish 1         木樨雨轩  0.128       青岛   \n",
       "23772       凯旋门_Furnish 1         木樨雨轩  0.128       青岛   \n",
       "23773       凯旋门_Furnish 1         木樨雨轩  0.128       青岛   \n",
       "\n",
       "                            platform         Factory  \\\n",
       "0                                FDG      福建红梅家具有限公司   \n",
       "1                YLA_Willow_Fit@Home      福建红梅家具有限公司   \n",
       "2                YLA_Willow_Fit@Home      福建红梅家具有限公司   \n",
       "3        QLJ_Nanadaru_FURNITURER INC  安徽菲雷克斯科技发展有限公司   \n",
       "4      LYP_Lunar Pool_FURNITURER INC      福建红梅家具有限公司   \n",
       "...                              ...             ...   \n",
       "23769             KXM_GFBG_Furnish 1  洛阳莱特柜业（集团）有限公司   \n",
       "23770             KXM_GFBG_Furnish 1  洛阳莱特柜业（集团）有限公司   \n",
       "23771             KXM_GFBG_Furnish 1  洛阳莱特柜业（集团）有限公司   \n",
       "23772             KXM_GFBG_Furnish 1  洛阳莱特柜业（集团）有限公司   \n",
       "23773             KXM_GFBG_Furnish 1  洛阳莱特柜业（集团）有限公司   \n",
       "\n",
       "                   warehouse detail  InvBal-Qty      Warehouse  \n",
       "0      Cloud Stock\\n(2019年04月01日至今)        40.0    1. WH-Cloud  \n",
       "1      Cloud Stock\\n(2019年04月01日至今)       600.0    1. WH-Cloud  \n",
       "2      Cloud Stock\\n(2019年04月01日至今)       600.0    1. WH-Cloud  \n",
       "3      Cloud Stock\\n(2019年04月01日至今)       200.0    1. WH-Cloud  \n",
       "4      Cloud Stock\\n(2019年04月01日至今)       500.0    1. WH-Cloud  \n",
       "...                             ...         ...            ...  \n",
       "23769            Groupon仓\\n(NL AMS)         3.0  5. WH-Arrival  \n",
       "23770            Groupon仓\\n(NL AMS)        16.0  5. WH-Arrival  \n",
       "23771            Groupon仓\\n(NL AMS)        16.0  5. WH-Arrival  \n",
       "23772            Groupon仓\\n(NL AMS)        13.0  5. WH-Arrival  \n",
       "23773            Groupon仓\\n(NL AMS)        68.0  5. WH-Arrival  \n",
       "\n",
       "[23774 rows x 12 columns]"
      ]
     },
     "execution_count": 31,
     "metadata": {},
     "output_type": "execute_result"
    }
   ],
   "source": [
    "df_wh"
   ]
  },
  {
   "cell_type": "code",
   "execution_count": 32,
   "metadata": {
    "ExecuteTime": {
     "end_time": "2021-01-05T01:54:02.011028Z",
     "start_time": "2021-01-05T01:54:02.007051Z"
    }
   },
   "outputs": [],
   "source": [
    "################################   select only THTJ inventory   #################################"
   ]
  },
  {
   "cell_type": "code",
   "execution_count": 33,
   "metadata": {
    "ExecuteTime": {
     "end_time": "2021-01-05T01:54:02.026628Z",
     "start_time": "2021-01-05T01:54:02.015428Z"
    }
   },
   "outputs": [],
   "source": [
    "# df_wh.to_csv('PowerBI Input//Inventory Balances.csv', index=False)"
   ]
  },
  {
   "cell_type": "markdown",
   "metadata": {},
   "source": [
    "---"
   ]
  },
  {
   "cell_type": "markdown",
   "metadata": {},
   "source": [
    "## Product Catalog"
   ]
  },
  {
   "cell_type": "code",
   "execution_count": 34,
   "metadata": {
    "ExecuteTime": {
     "end_time": "2021-01-05T01:54:06.269588Z",
     "start_time": "2021-01-05T01:54:02.029626Z"
    },
    "scrolled": true
   },
   "outputs": [],
   "source": [
    "# sales items\n",
    "df_sales_item = df[['Item Number','SKU']]\n",
    "\n",
    "# Upper\n",
    "df_sales_item['Item Number'] = df_sales_item['Item Number'].str.upper()\n",
    "df_sales_item['SKU'] = df_sales_item['SKU'].str.upper()\n",
    "# clean '?' and strip\n",
    "df_sales_item['Item Number'] = df_sales_item.apply(lambda x: str(x['Item Number']).replace('?',' ').strip(), axis =1)\n",
    "\n",
    "df_sales_item = df_sales_item.drop_duplicates().reset_index(drop=True)"
   ]
  },
  {
   "cell_type": "code",
   "execution_count": 35,
   "metadata": {
    "ExecuteTime": {
     "end_time": "2021-01-05T01:54:06.337025Z",
     "start_time": "2021-01-05T01:54:06.273198Z"
    }
   },
   "outputs": [],
   "source": [
    "df_prod = pd.read_csv('sup source//Product Catalog//Product Catalog downloaded from Wayfair - 20201230.csv')"
   ]
  },
  {
   "cell_type": "code",
   "execution_count": 36,
   "metadata": {
    "ExecuteTime": {
     "end_time": "2021-01-05T01:54:06.483846Z",
     "start_time": "2021-01-05T01:54:06.342531Z"
    }
   },
   "outputs": [],
   "source": [
    "# product catalog items\n",
    "df_rel = df_prod[['Supplier Part #', 'Internal SKU', 'Product Name']]\n",
    "\n",
    "#Upper\n",
    "df_rel['Supplier Part #'] = df_rel['Supplier Part #'].str.upper()\n",
    "df_rel['Internal SKU'] = df_rel['Internal SKU'].str.upper()\n",
    "df_rel['Product Name'] = df_rel['Product Name'].str.upper()\n",
    "# clean '?' and strip\n",
    "df_rel['Supplier Part #'] = df_rel.apply(lambda x: str(x['Supplier Part #']).replace('?',' ').strip(), axis =1)\n",
    "\n",
    "df_rel = df_rel.drop_duplicates()\n",
    "df_rel.rename(columns={'Supplier Part #':'Item Number', 'Internal SKU':'SKU'}, inplace=True)\n",
    "df_rel = df_rel[df_rel['SKU'].notnull()].reset_index(drop=True)"
   ]
  },
  {
   "cell_type": "code",
   "execution_count": 37,
   "metadata": {
    "ExecuteTime": {
     "end_time": "2021-01-05T01:54:06.554898Z",
     "start_time": "2021-01-05T01:54:06.487833Z"
    }
   },
   "outputs": [
    {
     "data": {
      "text/html": [
       "<div>\n",
       "<style scoped>\n",
       "    .dataframe tbody tr th:only-of-type {\n",
       "        vertical-align: middle;\n",
       "    }\n",
       "\n",
       "    .dataframe tbody tr th {\n",
       "        vertical-align: top;\n",
       "    }\n",
       "\n",
       "    .dataframe thead th {\n",
       "        text-align: right;\n",
       "    }\n",
       "</style>\n",
       "<table border=\"1\" class=\"dataframe\">\n",
       "  <thead>\n",
       "    <tr style=\"text-align: right;\">\n",
       "      <th></th>\n",
       "      <th>Item Number</th>\n",
       "      <th>fuzz_item</th>\n",
       "      <th>ratio</th>\n",
       "      <th>SKU</th>\n",
       "    </tr>\n",
       "  </thead>\n",
       "  <tbody>\n",
       "    <tr>\n",
       "      <th>10</th>\n",
       "      <td>ALASKA OAK BLACK LEG</td>\n",
       "      <td>OAK</td>\n",
       "      <td>90</td>\n",
       "      <td>TNFI1420</td>\n",
       "    </tr>\n",
       "    <tr>\n",
       "      <th>19</th>\n",
       "      <td>ALDRIDGE GREY LMKZ</td>\n",
       "      <td>ALDRIDGE GREY</td>\n",
       "      <td>95</td>\n",
       "      <td>TNFI1631</td>\n",
       "    </tr>\n",
       "    <tr>\n",
       "      <th>24</th>\n",
       "      <td>ALDRIDGE VELVET CACTUS BROWN LEG</td>\n",
       "      <td>ALDRIDGE VELVET CACTUS OAK LEG</td>\n",
       "      <td>90</td>\n",
       "      <td>TNFI1797</td>\n",
       "    </tr>\n",
       "    <tr>\n",
       "      <th>29</th>\n",
       "      <td>AMABEL OAK WHITE</td>\n",
       "      <td>OAK</td>\n",
       "      <td>90</td>\n",
       "      <td>TNFI1420</td>\n",
       "    </tr>\n",
       "    <tr>\n",
       "      <th>32</th>\n",
       "      <td>AMAT WALNUT JM</td>\n",
       "      <td>AMAT WALNUT</td>\n",
       "      <td>95</td>\n",
       "      <td>TNFI1152</td>\n",
       "    </tr>\n",
       "    <tr>\n",
       "      <th>...</th>\n",
       "      <td>...</td>\n",
       "      <td>...</td>\n",
       "      <td>...</td>\n",
       "      <td>...</td>\n",
       "    </tr>\n",
       "    <tr>\n",
       "      <th>3268</th>\n",
       "      <td>BELSON OAK B</td>\n",
       "      <td>OAK</td>\n",
       "      <td>90</td>\n",
       "      <td>TNFI1420</td>\n",
       "    </tr>\n",
       "    <tr>\n",
       "      <th>3271</th>\n",
       "      <td>CHARLTON PP WHITE 2PCS</td>\n",
       "      <td>CHARLTON PP WHITE</td>\n",
       "      <td>95</td>\n",
       "      <td>TNFI1151</td>\n",
       "    </tr>\n",
       "    <tr>\n",
       "      <th>3275</th>\n",
       "      <td>DOREEN OAK</td>\n",
       "      <td>OAK</td>\n",
       "      <td>90</td>\n",
       "      <td>TNFI1420</td>\n",
       "    </tr>\n",
       "    <tr>\n",
       "      <th>3277</th>\n",
       "      <td>DUGAN BLUE I</td>\n",
       "      <td>DUGAN BLUE</td>\n",
       "      <td>95</td>\n",
       "      <td>TNFI1657</td>\n",
       "    </tr>\n",
       "    <tr>\n",
       "      <th>3293</th>\n",
       "      <td>MARKHAM BIG BLACK</td>\n",
       "      <td>MARKHAM BIG</td>\n",
       "      <td>90</td>\n",
       "      <td>TNFI1475</td>\n",
       "    </tr>\n",
       "  </tbody>\n",
       "</table>\n",
       "<p>765 rows × 4 columns</p>\n",
       "</div>"
      ],
      "text/plain": [
       "                           Item Number                       fuzz_item  ratio  \\\n",
       "10                ALASKA OAK BLACK LEG                             OAK     90   \n",
       "19                  ALDRIDGE GREY LMKZ                   ALDRIDGE GREY     95   \n",
       "24    ALDRIDGE VELVET CACTUS BROWN LEG  ALDRIDGE VELVET CACTUS OAK LEG     90   \n",
       "29                    AMABEL OAK WHITE                             OAK     90   \n",
       "32                      AMAT WALNUT JM                     AMAT WALNUT     95   \n",
       "...                                ...                             ...    ...   \n",
       "3268                      BELSON OAK B                             OAK     90   \n",
       "3271            CHARLTON PP WHITE 2PCS               CHARLTON PP WHITE     95   \n",
       "3275                        DOREEN OAK                             OAK     90   \n",
       "3277                      DUGAN BLUE I                      DUGAN BLUE     95   \n",
       "3293                 MARKHAM BIG BLACK                     MARKHAM BIG     90   \n",
       "\n",
       "           SKU  \n",
       "10    TNFI1420  \n",
       "19    TNFI1631  \n",
       "24    TNFI1797  \n",
       "29    TNFI1420  \n",
       "32    TNFI1152  \n",
       "...        ...  \n",
       "3268  TNFI1420  \n",
       "3271  TNFI1151  \n",
       "3275  TNFI1420  \n",
       "3277  TNFI1657  \n",
       "3293  TNFI1475  \n",
       "\n",
       "[765 rows x 4 columns]"
      ]
     },
     "execution_count": 37,
     "metadata": {},
     "output_type": "execute_result"
    }
   ],
   "source": [
    "# fuzzy items\n",
    "df_fuzz = pd.read_csv('Item Mapping//fuzz_item.csv')\n",
    "df_fuzz = df_fuzz[df_fuzz['ratio'] >= 90]\n",
    "df_fuzz"
   ]
  },
  {
   "cell_type": "code",
   "execution_count": 38,
   "metadata": {
    "ExecuteTime": {
     "end_time": "2021-01-05T01:54:06.591314Z",
     "start_time": "2021-01-05T01:54:06.560450Z"
    }
   },
   "outputs": [],
   "source": [
    "df_item = pd.concat([df_rel[['Item Number', 'SKU']],df_sales_item, df_fuzz[['Item Number', 'SKU']]]).drop_duplicates()"
   ]
  },
  {
   "cell_type": "code",
   "execution_count": 39,
   "metadata": {
    "ExecuteTime": {
     "end_time": "2021-01-05T01:54:06.615508Z",
     "start_time": "2021-01-05T01:54:06.595703Z"
    }
   },
   "outputs": [],
   "source": [
    "df_rel_name = df_rel[['SKU','Product Name']].drop_duplicates()"
   ]
  },
  {
   "cell_type": "code",
   "execution_count": 40,
   "metadata": {
    "ExecuteTime": {
     "end_time": "2021-01-05T01:54:06.644623Z",
     "start_time": "2021-01-05T01:54:06.620011Z"
    }
   },
   "outputs": [],
   "source": [
    "df_item = df_item.merge(df_rel_name, on='SKU', how='left')"
   ]
  },
  {
   "cell_type": "code",
   "execution_count": 41,
   "metadata": {
    "ExecuteTime": {
     "end_time": "2021-01-05T01:54:06.669168Z",
     "start_time": "2021-01-05T01:54:06.649182Z"
    }
   },
   "outputs": [],
   "source": [
    "# groupby Item Number ==> Make Sure item number are unique\n",
    "df_item.sort_values(by = 'SKU', inplace = True)"
   ]
  },
  {
   "cell_type": "code",
   "execution_count": 42,
   "metadata": {
    "ExecuteTime": {
     "end_time": "2021-01-05T01:54:06.758677Z",
     "start_time": "2021-01-05T01:54:06.728501Z"
    }
   },
   "outputs": [],
   "source": [
    "df_item['SKU'] = ' && ' + df_item['SKU']\n",
    "df_item['Product Name'] = ' && ' + df_item['Product Name']"
   ]
  },
  {
   "cell_type": "code",
   "execution_count": 43,
   "metadata": {
    "ExecuteTime": {
     "end_time": "2021-01-05T01:54:06.777920Z",
     "start_time": "2021-01-05T01:54:06.759673Z"
    }
   },
   "outputs": [],
   "source": [
    "df_item['SKU'] = df_item['SKU'].astype(str)\n",
    "df_item['Product Name'] = df_item['Product Name'].astype(str)"
   ]
  },
  {
   "cell_type": "code",
   "execution_count": 44,
   "metadata": {
    "ExecuteTime": {
     "end_time": "2021-01-05T01:54:08.926443Z",
     "start_time": "2021-01-05T01:54:06.778917Z"
    }
   },
   "outputs": [],
   "source": [
    "df_item = df_item.groupby('Item Number').sum().reset_index()"
   ]
  },
  {
   "cell_type": "code",
   "execution_count": 45,
   "metadata": {
    "ExecuteTime": {
     "end_time": "2021-01-05T01:54:08.950245Z",
     "start_time": "2021-01-05T01:54:08.930376Z"
    }
   },
   "outputs": [],
   "source": [
    "df_item['SKU'] = df_item['SKU'].str[4:]\n",
    "df_item['Product Name'] = df_item['Product Name'].str[4:]"
   ]
  },
  {
   "cell_type": "code",
   "execution_count": 46,
   "metadata": {
    "ExecuteTime": {
     "end_time": "2021-01-05T01:54:08.975897Z",
     "start_time": "2021-01-05T01:54:08.958382Z"
    }
   },
   "outputs": [],
   "source": [
    "df_item.fillna('Product Name not found in PC',inplace = True)"
   ]
  },
  {
   "cell_type": "code",
   "execution_count": 47,
   "metadata": {
    "ExecuteTime": {
     "end_time": "2021-01-05T01:54:08.990998Z",
     "start_time": "2021-01-05T01:54:08.983295Z"
    }
   },
   "outputs": [],
   "source": [
    "# finish processing sales and product catalog\n",
    "# steps:\n",
    "# 1. get unique Item Number and SKU (from both sales and product catalog and item_fuzzy)\n",
    "# 2. put Product Name back from item_rel\n",
    "# 3. sort and groupby\n",
    "\n",
    "# below:\n",
    "# 4. select sku from inventory but not in df_item\n",
    "# 5. name 'unallocated' and concat in df_item\n",
    "# 6. input category"
   ]
  },
  {
   "cell_type": "code",
   "execution_count": 48,
   "metadata": {
    "ExecuteTime": {
     "end_time": "2021-01-05T01:54:10.185480Z",
     "start_time": "2021-01-05T01:54:09.000686Z"
    }
   },
   "outputs": [],
   "source": [
    "# warehouse items\n",
    "df_wh_item = df_wh[['Item Number']]\n",
    "\n",
    "# upper\n",
    "df_wh_item['Item Number'] =  df_wh_item['Item Number'].str.upper()\n",
    "# clean '?' and strip\n",
    "df_wh_item['Item Number'] = df_wh_item.apply(lambda x: str(x['Item Number']).replace('?',' ').strip(), axis =1)\n",
    "\n",
    "df_wh_item = df_wh_item.drop_duplicates().reset_index(drop=True)"
   ]
  },
  {
   "cell_type": "code",
   "execution_count": 49,
   "metadata": {
    "ExecuteTime": {
     "end_time": "2021-01-05T01:54:13.142698Z",
     "start_time": "2021-01-05T01:54:10.189589Z"
    }
   },
   "outputs": [],
   "source": [
    "df_wh_item['in/out'] = df_wh_item.apply(lambda x: x['Item Number'] in list(df_item['Item Number']), axis = 1)"
   ]
  },
  {
   "cell_type": "code",
   "execution_count": 50,
   "metadata": {
    "ExecuteTime": {
     "end_time": "2021-01-05T01:54:13.157873Z",
     "start_time": "2021-01-05T01:54:13.144695Z"
    }
   },
   "outputs": [],
   "source": [
    "df_add = df_wh_item[~df_wh_item['in/out']][['Item Number']]\n",
    "df_add['SKU'] = 'unallocated'      # define unallocated items"
   ]
  },
  {
   "cell_type": "code",
   "execution_count": 51,
   "metadata": {
    "ExecuteTime": {
     "end_time": "2021-01-05T01:54:13.182550Z",
     "start_time": "2021-01-05T01:54:13.161036Z"
    }
   },
   "outputs": [],
   "source": [
    "df_itemset = pd.concat([df_item, df_add]).fillna('unallocated inventory')    "
   ]
  },
  {
   "cell_type": "code",
   "execution_count": 52,
   "metadata": {
    "ExecuteTime": {
     "end_time": "2021-01-05T01:54:13.190917Z",
     "start_time": "2021-01-05T01:54:13.185985Z"
    }
   },
   "outputs": [],
   "source": [
    "# add category"
   ]
  },
  {
   "cell_type": "code",
   "execution_count": 53,
   "metadata": {
    "ExecuteTime": {
     "end_time": "2021-01-05T01:54:13.214186Z",
     "start_time": "2021-01-05T01:54:13.193910Z"
    }
   },
   "outputs": [],
   "source": [
    "category_info = df_prod[['Internal SKU', 'Wayfair Class']].drop_duplicates().reset_index(drop = True).rename(columns={'Internal SKU':'SKU - to match category', 'Wayfair Class':'Category'})"
   ]
  },
  {
   "cell_type": "code",
   "execution_count": 54,
   "metadata": {
    "ExecuteTime": {
     "end_time": "2021-01-05T01:54:13.242278Z",
     "start_time": "2021-01-05T01:54:13.219796Z"
    }
   },
   "outputs": [],
   "source": [
    "# add manual category_mapping input\n",
    "df_man = pd.read_csv('Item Mapping//Items Mannual Input.csv')\n",
    "df_man = df_man[['SKU', 'Category']].drop_duplicates().rename(columns={'SKU':'SKU - to match category'})\n",
    "\n",
    "category_info = pd.concat([category_info,df_man])"
   ]
  },
  {
   "cell_type": "code",
   "execution_count": 55,
   "metadata": {
    "ExecuteTime": {
     "end_time": "2021-01-05T01:54:13.480802Z",
     "start_time": "2021-01-05T01:54:13.247384Z"
    }
   },
   "outputs": [],
   "source": [
    "df_itemset['SKU - to match category'] = df_itemset.apply(lambda x: str(x['SKU']).split(' && ')[0], axis = 1)"
   ]
  },
  {
   "cell_type": "code",
   "execution_count": 56,
   "metadata": {
    "ExecuteTime": {
     "end_time": "2021-01-05T01:54:13.509624Z",
     "start_time": "2021-01-05T01:54:13.482795Z"
    }
   },
   "outputs": [],
   "source": [
    "df_itemset = df_itemset.merge(category_info, on='SKU - to match category',how='left')\n",
    "df_itemset = df_itemset.drop(columns = 'SKU - to match category')"
   ]
  },
  {
   "cell_type": "code",
   "execution_count": 57,
   "metadata": {
    "ExecuteTime": {
     "end_time": "2021-01-05T01:54:13.976519Z",
     "start_time": "2021-01-05T01:54:13.513465Z"
    }
   },
   "outputs": [],
   "source": [
    "# add Operation\n",
    "df_teammap = pd.read_excel('sup source//team mapping//team mapping.xlsx', sheet_name='Sheet1').rename(columns={'Item Name':'Item Number'})\n",
    "\n",
    "\n",
    "# Upper\n",
    "df_teammap['Item Number'] = df_teammap['Item Number'].str.upper()\n",
    "# clean '?' and strip\n",
    "df_teammap['Item Number'] = df_teammap.apply(lambda x: str(x['Item Number']).replace('?',' ').strip(), axis =1)\n",
    "\n",
    "temp = df_itemset.merge(df_teammap, on = 'Item Number', how = 'left')\n",
    "# print(len(temp))\n",
    "temp = temp[temp['Operation'].notnull()]\n",
    "temp = temp[temp['SKU'] != 'unallocated']\n",
    "temp = temp[['SKU', 'Operation']].drop_duplicates()\n",
    "\n",
    "temp = temp.groupby('SKU').sum().reset_index()\n",
    "temp\n",
    "\n",
    "df_itemset = df_itemset.merge(temp, on = 'SKU', how = 'left')"
   ]
  },
  {
   "cell_type": "code",
   "execution_count": 58,
   "metadata": {
    "ExecuteTime": {
     "end_time": "2021-01-05T01:54:14.054966Z",
     "start_time": "2021-01-05T01:54:13.980770Z"
    }
   },
   "outputs": [],
   "source": [
    "df_itemset.to_csv('Item Mapping//DIM Item Name.csv', index=False, encoding='utf_8_sig')"
   ]
  },
  {
   "cell_type": "code",
   "execution_count": 59,
   "metadata": {
    "ExecuteTime": {
     "end_time": "2021-01-05T01:54:14.091710Z",
     "start_time": "2021-01-05T01:54:14.059048Z"
    }
   },
   "outputs": [
    {
     "data": {
      "text/html": [
       "<div>\n",
       "<style scoped>\n",
       "    .dataframe tbody tr th:only-of-type {\n",
       "        vertical-align: middle;\n",
       "    }\n",
       "\n",
       "    .dataframe tbody tr th {\n",
       "        vertical-align: top;\n",
       "    }\n",
       "\n",
       "    .dataframe thead th {\n",
       "        text-align: right;\n",
       "    }\n",
       "</style>\n",
       "<table border=\"1\" class=\"dataframe\">\n",
       "  <thead>\n",
       "    <tr style=\"text-align: right;\">\n",
       "      <th></th>\n",
       "      <th>Item Number</th>\n",
       "      <th>SKU</th>\n",
       "      <th>Product Name</th>\n",
       "      <th>Category</th>\n",
       "      <th>Operation</th>\n",
       "    </tr>\n",
       "  </thead>\n",
       "  <tbody>\n",
       "    <tr>\n",
       "      <th>0</th>\n",
       "      <td>3339-AM8583-BL</td>\n",
       "      <td>TNFI1025</td>\n",
       "      <td>KURLAND MESH OFFICE CHAIR</td>\n",
       "      <td>Office Chairs</td>\n",
       "      <td>NaN</td>\n",
       "    </tr>\n",
       "    <tr>\n",
       "      <th>1</th>\n",
       "      <td>3339-AM8585-GN</td>\n",
       "      <td>TNFI1025</td>\n",
       "      <td>KURLAND MESH OFFICE CHAIR</td>\n",
       "      <td>Office Chairs</td>\n",
       "      <td>NaN</td>\n",
       "    </tr>\n",
       "    <tr>\n",
       "      <th>2</th>\n",
       "      <td>3339-AM8587-00</td>\n",
       "      <td>TNFI1027</td>\n",
       "      <td>KUSHNER OFFICE CHAIR</td>\n",
       "      <td>Office Chairs</td>\n",
       "      <td>NaN</td>\n",
       "    </tr>\n",
       "    <tr>\n",
       "      <th>3</th>\n",
       "      <td>3339-AM8588-00</td>\n",
       "      <td>TNFI1001</td>\n",
       "      <td>IDYLBERRY DESK</td>\n",
       "      <td>Desks</td>\n",
       "      <td>NaN</td>\n",
       "    </tr>\n",
       "    <tr>\n",
       "      <th>4</th>\n",
       "      <td>3339-AM8589-00</td>\n",
       "      <td>TNFI1037</td>\n",
       "      <td>EVERBY TV STAND</td>\n",
       "      <td>TV Stands &amp; Entertainment Centers</td>\n",
       "      <td>NaN</td>\n",
       "    </tr>\n",
       "    <tr>\n",
       "      <th>...</th>\n",
       "      <td>...</td>\n",
       "      <td>...</td>\n",
       "      <td>...</td>\n",
       "      <td>...</td>\n",
       "      <td>...</td>\n",
       "    </tr>\n",
       "    <tr>\n",
       "      <th>5036</th>\n",
       "      <td>YNEZ AQUA KD 2PC DT LMKZ</td>\n",
       "      <td>unallocated</td>\n",
       "      <td>unallocated inventory</td>\n",
       "      <td>NaN</td>\n",
       "      <td>NaN</td>\n",
       "    </tr>\n",
       "    <tr>\n",
       "      <th>5037</th>\n",
       "      <td>ZACHARY LIZY BEIGE</td>\n",
       "      <td>unallocated</td>\n",
       "      <td>unallocated inventory</td>\n",
       "      <td>NaN</td>\n",
       "      <td>NaN</td>\n",
       "    </tr>\n",
       "    <tr>\n",
       "      <th>5038</th>\n",
       "      <td>ZACHARY LIZY GREY I</td>\n",
       "      <td>unallocated</td>\n",
       "      <td>unallocated inventory</td>\n",
       "      <td>NaN</td>\n",
       "      <td>NaN</td>\n",
       "    </tr>\n",
       "    <tr>\n",
       "      <th>5039</th>\n",
       "      <td>ZACHARY LIZY PURPLE</td>\n",
       "      <td>unallocated</td>\n",
       "      <td>unallocated inventory</td>\n",
       "      <td>NaN</td>\n",
       "      <td>NaN</td>\n",
       "    </tr>\n",
       "    <tr>\n",
       "      <th>5040</th>\n",
       "      <td>ZACHARY LIZY TAUPE</td>\n",
       "      <td>unallocated</td>\n",
       "      <td>unallocated inventory</td>\n",
       "      <td>NaN</td>\n",
       "      <td>NaN</td>\n",
       "    </tr>\n",
       "  </tbody>\n",
       "</table>\n",
       "<p>5041 rows × 5 columns</p>\n",
       "</div>"
      ],
      "text/plain": [
       "                   Item Number          SKU               Product Name  \\\n",
       "0               3339-AM8583-BL     TNFI1025  KURLAND MESH OFFICE CHAIR   \n",
       "1               3339-AM8585-GN     TNFI1025  KURLAND MESH OFFICE CHAIR   \n",
       "2               3339-AM8587-00     TNFI1027       KUSHNER OFFICE CHAIR   \n",
       "3               3339-AM8588-00     TNFI1001             IDYLBERRY DESK   \n",
       "4               3339-AM8589-00     TNFI1037            EVERBY TV STAND   \n",
       "...                        ...          ...                        ...   \n",
       "5036  YNEZ AQUA KD 2PC DT LMKZ  unallocated      unallocated inventory   \n",
       "5037        ZACHARY LIZY BEIGE  unallocated      unallocated inventory   \n",
       "5038       ZACHARY LIZY GREY I  unallocated      unallocated inventory   \n",
       "5039       ZACHARY LIZY PURPLE  unallocated      unallocated inventory   \n",
       "5040        ZACHARY LIZY TAUPE  unallocated      unallocated inventory   \n",
       "\n",
       "                               Category Operation  \n",
       "0                         Office Chairs       NaN  \n",
       "1                         Office Chairs       NaN  \n",
       "2                         Office Chairs       NaN  \n",
       "3                                 Desks       NaN  \n",
       "4     TV Stands & Entertainment Centers       NaN  \n",
       "...                                 ...       ...  \n",
       "5036                                NaN       NaN  \n",
       "5037                                NaN       NaN  \n",
       "5038                                NaN       NaN  \n",
       "5039                                NaN       NaN  \n",
       "5040                                NaN       NaN  \n",
       "\n",
       "[5041 rows x 5 columns]"
      ]
     },
     "execution_count": 59,
     "metadata": {},
     "output_type": "execute_result"
    }
   ],
   "source": [
    "df_itemset"
   ]
  },
  {
   "cell_type": "markdown",
   "metadata": {},
   "source": [
    "---"
   ]
  },
  {
   "cell_type": "markdown",
   "metadata": {
    "ExecuteTime": {
     "end_time": "2020-12-31T02:02:39.620597Z",
     "start_time": "2020-12-31T02:02:39.617605Z"
    }
   },
   "source": [
    "## Now save Inventory Fact Table (after finishing item mapping)"
   ]
  },
  {
   "cell_type": "code",
   "execution_count": 60,
   "metadata": {
    "ExecuteTime": {
     "end_time": "2021-01-05T01:54:14.169468Z",
     "start_time": "2021-01-05T01:54:14.097601Z"
    },
    "scrolled": true
   },
   "outputs": [],
   "source": [
    "df_wh = df_wh.merge(df_itemset, on = 'Item Number', how = 'left')"
   ]
  },
  {
   "cell_type": "code",
   "execution_count": 61,
   "metadata": {
    "ExecuteTime": {
     "end_time": "2021-01-05T01:54:14.892251Z",
     "start_time": "2021-01-05T01:54:14.172462Z"
    }
   },
   "outputs": [],
   "source": [
    "df_wh.to_csv('PowerBI Input//Inventory Balances.csv', index=False)"
   ]
  },
  {
   "cell_type": "markdown",
   "metadata": {
    "ExecuteTime": {
     "end_time": "2020-12-31T02:02:39.620597Z",
     "start_time": "2020-12-31T02:02:39.617605Z"
    }
   },
   "source": [
    "## Now save Sales Fact Table (after finishing item mapping)"
   ]
  },
  {
   "cell_type": "code",
   "execution_count": 62,
   "metadata": {
    "ExecuteTime": {
     "end_time": "2021-01-05T01:54:14.951869Z",
     "start_time": "2021-01-05T01:54:14.895293Z"
    }
   },
   "outputs": [],
   "source": [
    "df.rename(columns={'SKU':'Wayfair SKU'}, inplace = True)"
   ]
  },
  {
   "cell_type": "code",
   "execution_count": 63,
   "metadata": {
    "ExecuteTime": {
     "end_time": "2021-01-05T01:54:15.394220Z",
     "start_time": "2021-01-05T01:54:14.954264Z"
    }
   },
   "outputs": [],
   "source": [
    "df = df.merge(df_itemset, on = 'Item Number', how = 'left')"
   ]
  },
  {
   "cell_type": "code",
   "execution_count": 64,
   "metadata": {
    "ExecuteTime": {
     "end_time": "2021-01-05T01:54:21.415216Z",
     "start_time": "2021-01-05T01:54:15.400466Z"
    }
   },
   "outputs": [],
   "source": [
    "df.to_csv('PowerBI Input//wayfair_sales_input.csv', index = False)"
   ]
  },
  {
   "cell_type": "code",
   "execution_count": null,
   "metadata": {},
   "outputs": [],
   "source": []
  },
  {
   "cell_type": "code",
   "execution_count": null,
   "metadata": {},
   "outputs": [],
   "source": []
  },
  {
   "cell_type": "markdown",
   "metadata": {},
   "source": [
    "---"
   ]
  },
  {
   "cell_type": "markdown",
   "metadata": {},
   "source": [
    "## fuzzy items"
   ]
  },
  {
   "cell_type": "code",
   "execution_count": 65,
   "metadata": {
    "ExecuteTime": {
     "end_time": "2021-01-05T01:54:21.430832Z",
     "start_time": "2021-01-05T01:54:21.418210Z"
    }
   },
   "outputs": [],
   "source": [
    "# from fuzzywuzzy import fuzz, process\n",
    "\n",
    "# choices_sale = list(df_item['Item Number'])\n",
    "\n",
    "# df_fuzz = df_add.apply(lambda x: process.extractOne(x['Item Number'], choices_sale), axis = 1)\n",
    "\n",
    "# df_add['fuzz_item'] = [i[0] for i in df_fuzz]\n",
    "# df_add['ratio'] = [i[1] for i in df_fuzz]\n",
    "\n",
    "# df_pair = df_item.rename(columns={'Item Number':'fuzz_item'})\n",
    "\n",
    "# df_add = df_add[['Item Number', 'fuzz_item', 'ratio']].merge(df_pair[['fuzz_item', 'SKU']], on = 'fuzz_item', how= 'left')\n",
    "\n",
    "# df_add.to_csv('Item Mapping//fuzz_item.csv', index = False)"
   ]
  },
  {
   "cell_type": "markdown",
   "metadata": {},
   "source": [
    "---"
   ]
  },
  {
   "cell_type": "code",
   "execution_count": null,
   "metadata": {},
   "outputs": [],
   "source": []
  },
  {
   "cell_type": "code",
   "execution_count": null,
   "metadata": {},
   "outputs": [],
   "source": []
  },
  {
   "cell_type": "code",
   "execution_count": null,
   "metadata": {},
   "outputs": [],
   "source": []
  },
  {
   "cell_type": "code",
   "execution_count": null,
   "metadata": {},
   "outputs": [],
   "source": []
  },
  {
   "cell_type": "code",
   "execution_count": null,
   "metadata": {},
   "outputs": [],
   "source": []
  },
  {
   "cell_type": "code",
   "execution_count": 66,
   "metadata": {
    "ExecuteTime": {
     "end_time": "2021-01-05T01:54:21.508706Z",
     "start_time": "2021-01-05T01:54:21.434623Z"
    }
   },
   "outputs": [
    {
     "data": {
      "text/html": [
       "<div>\n",
       "<style scoped>\n",
       "    .dataframe tbody tr th:only-of-type {\n",
       "        vertical-align: middle;\n",
       "    }\n",
       "\n",
       "    .dataframe tbody tr th {\n",
       "        vertical-align: top;\n",
       "    }\n",
       "\n",
       "    .dataframe thead th {\n",
       "        text-align: right;\n",
       "    }\n",
       "</style>\n",
       "<table border=\"1\" class=\"dataframe\">\n",
       "  <thead>\n",
       "    <tr style=\"text-align: right;\">\n",
       "      <th></th>\n",
       "      <th>Item Number</th>\n",
       "      <th>SKU</th>\n",
       "      <th>Product Name</th>\n",
       "      <th>Category_x</th>\n",
       "      <th>Operation</th>\n",
       "      <th>Category_y</th>\n",
       "    </tr>\n",
       "  </thead>\n",
       "  <tbody>\n",
       "    <tr>\n",
       "      <th>0</th>\n",
       "      <td>3339-AM8583-BL</td>\n",
       "      <td>TNFI1025</td>\n",
       "      <td>KURLAND MESH OFFICE CHAIR</td>\n",
       "      <td>Office Chairs</td>\n",
       "      <td>NaN</td>\n",
       "      <td>Office Chairs</td>\n",
       "    </tr>\n",
       "    <tr>\n",
       "      <th>1</th>\n",
       "      <td>3339-AM8585-GN</td>\n",
       "      <td>TNFI1025</td>\n",
       "      <td>KURLAND MESH OFFICE CHAIR</td>\n",
       "      <td>Office Chairs</td>\n",
       "      <td>NaN</td>\n",
       "      <td>Office Chairs</td>\n",
       "    </tr>\n",
       "    <tr>\n",
       "      <th>2</th>\n",
       "      <td>3339-AM8587-00</td>\n",
       "      <td>TNFI1027</td>\n",
       "      <td>KUSHNER OFFICE CHAIR</td>\n",
       "      <td>Office Chairs</td>\n",
       "      <td>NaN</td>\n",
       "      <td>Office Chairs</td>\n",
       "    </tr>\n",
       "    <tr>\n",
       "      <th>3</th>\n",
       "      <td>3339-AM8588-00</td>\n",
       "      <td>TNFI1001</td>\n",
       "      <td>IDYLBERRY DESK</td>\n",
       "      <td>Desks</td>\n",
       "      <td>NaN</td>\n",
       "      <td>Desks</td>\n",
       "    </tr>\n",
       "    <tr>\n",
       "      <th>4</th>\n",
       "      <td>3339-AM8589-00</td>\n",
       "      <td>TNFI1037</td>\n",
       "      <td>EVERBY TV STAND</td>\n",
       "      <td>TV Stands &amp; Entertainment Centers</td>\n",
       "      <td>NaN</td>\n",
       "      <td>TV Stands &amp; Entertainment Centers</td>\n",
       "    </tr>\n",
       "    <tr>\n",
       "      <th>...</th>\n",
       "      <td>...</td>\n",
       "      <td>...</td>\n",
       "      <td>...</td>\n",
       "      <td>...</td>\n",
       "      <td>...</td>\n",
       "      <td>...</td>\n",
       "    </tr>\n",
       "    <tr>\n",
       "      <th>5036</th>\n",
       "      <td>YNEZ AQUA KD 2PC DT LMKZ</td>\n",
       "      <td>unallocated</td>\n",
       "      <td>unallocated inventory</td>\n",
       "      <td>NaN</td>\n",
       "      <td>NaN</td>\n",
       "      <td>NaN</td>\n",
       "    </tr>\n",
       "    <tr>\n",
       "      <th>5037</th>\n",
       "      <td>ZACHARY LIZY BEIGE</td>\n",
       "      <td>unallocated</td>\n",
       "      <td>unallocated inventory</td>\n",
       "      <td>NaN</td>\n",
       "      <td>NaN</td>\n",
       "      <td>NaN</td>\n",
       "    </tr>\n",
       "    <tr>\n",
       "      <th>5038</th>\n",
       "      <td>ZACHARY LIZY GREY I</td>\n",
       "      <td>unallocated</td>\n",
       "      <td>unallocated inventory</td>\n",
       "      <td>NaN</td>\n",
       "      <td>NaN</td>\n",
       "      <td>NaN</td>\n",
       "    </tr>\n",
       "    <tr>\n",
       "      <th>5039</th>\n",
       "      <td>ZACHARY LIZY PURPLE</td>\n",
       "      <td>unallocated</td>\n",
       "      <td>unallocated inventory</td>\n",
       "      <td>NaN</td>\n",
       "      <td>NaN</td>\n",
       "      <td>NaN</td>\n",
       "    </tr>\n",
       "    <tr>\n",
       "      <th>5040</th>\n",
       "      <td>ZACHARY LIZY TAUPE</td>\n",
       "      <td>unallocated</td>\n",
       "      <td>unallocated inventory</td>\n",
       "      <td>NaN</td>\n",
       "      <td>NaN</td>\n",
       "      <td>NaN</td>\n",
       "    </tr>\n",
       "  </tbody>\n",
       "</table>\n",
       "<p>5041 rows × 6 columns</p>\n",
       "</div>"
      ],
      "text/plain": [
       "                   Item Number          SKU               Product Name  \\\n",
       "0               3339-AM8583-BL     TNFI1025  KURLAND MESH OFFICE CHAIR   \n",
       "1               3339-AM8585-GN     TNFI1025  KURLAND MESH OFFICE CHAIR   \n",
       "2               3339-AM8587-00     TNFI1027       KUSHNER OFFICE CHAIR   \n",
       "3               3339-AM8588-00     TNFI1001             IDYLBERRY DESK   \n",
       "4               3339-AM8589-00     TNFI1037            EVERBY TV STAND   \n",
       "...                        ...          ...                        ...   \n",
       "5036  YNEZ AQUA KD 2PC DT LMKZ  unallocated      unallocated inventory   \n",
       "5037        ZACHARY LIZY BEIGE  unallocated      unallocated inventory   \n",
       "5038       ZACHARY LIZY GREY I  unallocated      unallocated inventory   \n",
       "5039       ZACHARY LIZY PURPLE  unallocated      unallocated inventory   \n",
       "5040        ZACHARY LIZY TAUPE  unallocated      unallocated inventory   \n",
       "\n",
       "                             Category_x Operation  \\\n",
       "0                         Office Chairs       NaN   \n",
       "1                         Office Chairs       NaN   \n",
       "2                         Office Chairs       NaN   \n",
       "3                                 Desks       NaN   \n",
       "4     TV Stands & Entertainment Centers       NaN   \n",
       "...                                 ...       ...   \n",
       "5036                                NaN       NaN   \n",
       "5037                                NaN       NaN   \n",
       "5038                                NaN       NaN   \n",
       "5039                                NaN       NaN   \n",
       "5040                                NaN       NaN   \n",
       "\n",
       "                             Category_y  \n",
       "0                         Office Chairs  \n",
       "1                         Office Chairs  \n",
       "2                         Office Chairs  \n",
       "3                                 Desks  \n",
       "4     TV Stands & Entertainment Centers  \n",
       "...                                 ...  \n",
       "5036                                NaN  \n",
       "5037                                NaN  \n",
       "5038                                NaN  \n",
       "5039                                NaN  \n",
       "5040                                NaN  \n",
       "\n",
       "[5041 rows x 6 columns]"
      ]
     },
     "execution_count": 66,
     "metadata": {},
     "output_type": "execute_result"
    }
   ],
   "source": [
    "category_info = df_prod[['Supplier Part #', 'Wayfair Class']].drop_duplicates().reset_index(drop = True).rename(columns={'Supplier Part #':'Item Number', 'Wayfair Class':'Category'})\n",
    "\n",
    "df_itemset.merge(category_info, on='Item Number',how='left')"
   ]
  },
  {
   "cell_type": "code",
   "execution_count": null,
   "metadata": {},
   "outputs": [],
   "source": []
  },
  {
   "cell_type": "code",
   "execution_count": null,
   "metadata": {},
   "outputs": [],
   "source": []
  },
  {
   "cell_type": "code",
   "execution_count": null,
   "metadata": {},
   "outputs": [],
   "source": []
  },
  {
   "cell_type": "code",
   "execution_count": 67,
   "metadata": {
    "ExecuteTime": {
     "end_time": "2021-01-05T01:54:21.524430Z",
     "start_time": "2021-01-05T01:54:21.513113Z"
    }
   },
   "outputs": [],
   "source": [
    "a = df_itemset[df_itemset['SKU'] != 'unallocated']"
   ]
  },
  {
   "cell_type": "code",
   "execution_count": 68,
   "metadata": {
    "ExecuteTime": {
     "end_time": "2021-01-05T01:54:21.587367Z",
     "start_time": "2021-01-05T01:54:21.547204Z"
    }
   },
   "outputs": [
    {
     "data": {
      "text/html": [
       "<div>\n",
       "<style scoped>\n",
       "    .dataframe tbody tr th:only-of-type {\n",
       "        vertical-align: middle;\n",
       "    }\n",
       "\n",
       "    .dataframe tbody tr th {\n",
       "        vertical-align: top;\n",
       "    }\n",
       "\n",
       "    .dataframe thead th {\n",
       "        text-align: right;\n",
       "    }\n",
       "</style>\n",
       "<table border=\"1\" class=\"dataframe\">\n",
       "  <thead>\n",
       "    <tr style=\"text-align: right;\">\n",
       "      <th></th>\n",
       "      <th>Item Number</th>\n",
       "      <th>SKU</th>\n",
       "      <th>Product Name</th>\n",
       "      <th>Category</th>\n",
       "      <th>Operation</th>\n",
       "    </tr>\n",
       "  </thead>\n",
       "  <tbody>\n",
       "    <tr>\n",
       "      <th>1357</th>\n",
       "      <td>INDEPENDENCE COUNTER BAR BOUTON BLACK PU</td>\n",
       "      <td>MDRI1213 &amp;&amp; TNFI1974</td>\n",
       "      <td>&amp;&amp; LARES 27\"COUNTER STOOL</td>\n",
       "      <td>NaN</td>\n",
       "      <td>初景滝</td>\n",
       "    </tr>\n",
       "    <tr>\n",
       "      <th>1899</th>\n",
       "      <td>PEAT</td>\n",
       "      <td>TNFI1353 &amp;&amp; TNFI2239</td>\n",
       "      <td>&amp;&amp; ANDROMEDA 3 - PIECE DINING SET</td>\n",
       "      <td>NaN</td>\n",
       "      <td>初景滝</td>\n",
       "    </tr>\n",
       "    <tr>\n",
       "      <th>1900</th>\n",
       "      <td>PEAT HARDWARE</td>\n",
       "      <td>TNFI1353 &amp;&amp; TNFI2239</td>\n",
       "      <td></td>\n",
       "      <td>NaN</td>\n",
       "      <td>初景滝</td>\n",
       "    </tr>\n",
       "    <tr>\n",
       "      <th>1901</th>\n",
       "      <td>PEAT JM A</td>\n",
       "      <td>TNFI1353 &amp;&amp; TNFI2239</td>\n",
       "      <td></td>\n",
       "      <td>NaN</td>\n",
       "      <td>初景滝</td>\n",
       "    </tr>\n",
       "    <tr>\n",
       "      <th>1902</th>\n",
       "      <td>PEAT JM LMKZ</td>\n",
       "      <td>TNFI1353 &amp;&amp; TNFI2239</td>\n",
       "      <td></td>\n",
       "      <td>NaN</td>\n",
       "      <td>初景滝</td>\n",
       "    </tr>\n",
       "    <tr>\n",
       "      <th>1904</th>\n",
       "      <td>PEAT TARRANT</td>\n",
       "      <td>TNFI1353 &amp;&amp; TNFI2239</td>\n",
       "      <td></td>\n",
       "      <td>NaN</td>\n",
       "      <td>初景滝</td>\n",
       "    </tr>\n",
       "    <tr>\n",
       "      <th>2322</th>\n",
       "      <td>SMEG DARK BROWN PU BLACK GOLD LEG</td>\n",
       "      <td>TNFI1922</td>\n",
       "      <td></td>\n",
       "      <td>NaN</td>\n",
       "      <td>初景滝</td>\n",
       "    </tr>\n",
       "    <tr>\n",
       "      <th>2328</th>\n",
       "      <td>SMEG GREEN PU BLACK GOLD LEG</td>\n",
       "      <td>TNFI1922</td>\n",
       "      <td></td>\n",
       "      <td>NaN</td>\n",
       "      <td>初景滝</td>\n",
       "    </tr>\n",
       "    <tr>\n",
       "      <th>2329</th>\n",
       "      <td>SMEG GREY PU BLACK GOLD LEG</td>\n",
       "      <td>TNFI1922</td>\n",
       "      <td></td>\n",
       "      <td>NaN</td>\n",
       "      <td>初景滝</td>\n",
       "    </tr>\n",
       "    <tr>\n",
       "      <th>2469</th>\n",
       "      <td>TRONCO BLUE</td>\n",
       "      <td>TNFI1198 &amp;&amp; TNFI1944</td>\n",
       "      <td>&amp;&amp; RAFAELA VELVET TASK CHAIR</td>\n",
       "      <td>NaN</td>\n",
       "      <td>奈良井</td>\n",
       "    </tr>\n",
       "    <tr>\n",
       "      <th>2470</th>\n",
       "      <td>TRONCO BLUE UK</td>\n",
       "      <td>TNFI1198 &amp;&amp; TNFI1944</td>\n",
       "      <td></td>\n",
       "      <td>NaN</td>\n",
       "      <td>奈良井</td>\n",
       "    </tr>\n",
       "    <tr>\n",
       "      <th>2473</th>\n",
       "      <td>TRONCO GREY LMKZ</td>\n",
       "      <td>TNFI1198 &amp;&amp; TNFI1944</td>\n",
       "      <td>&amp;&amp; RAFAELA VELVET TASK CHAIR</td>\n",
       "      <td>NaN</td>\n",
       "      <td>奈良井</td>\n",
       "    </tr>\n",
       "    <tr>\n",
       "      <th>2639</th>\n",
       "      <td>ZANKA BLUE GOLD LEG</td>\n",
       "      <td>TNFI1872</td>\n",
       "      <td></td>\n",
       "      <td>NaN</td>\n",
       "      <td>初景滝</td>\n",
       "    </tr>\n",
       "    <tr>\n",
       "      <th>2640</th>\n",
       "      <td>ZANKA DARK BLUE GOLD LEG</td>\n",
       "      <td>TNFI1872</td>\n",
       "      <td></td>\n",
       "      <td>NaN</td>\n",
       "      <td>初景滝</td>\n",
       "    </tr>\n",
       "    <tr>\n",
       "      <th>2642</th>\n",
       "      <td>ZANKA GREY GOLD LEG</td>\n",
       "      <td>TNFI1872</td>\n",
       "      <td></td>\n",
       "      <td>NaN</td>\n",
       "      <td>初景滝</td>\n",
       "    </tr>\n",
       "  </tbody>\n",
       "</table>\n",
       "</div>"
      ],
      "text/plain": [
       "                                   Item Number                   SKU  \\\n",
       "1357  INDEPENDENCE COUNTER BAR BOUTON BLACK PU  MDRI1213 && TNFI1974   \n",
       "1899                                      PEAT  TNFI1353 && TNFI2239   \n",
       "1900                             PEAT HARDWARE  TNFI1353 && TNFI2239   \n",
       "1901                                 PEAT JM A  TNFI1353 && TNFI2239   \n",
       "1902                              PEAT JM LMKZ  TNFI1353 && TNFI2239   \n",
       "1904                              PEAT TARRANT  TNFI1353 && TNFI2239   \n",
       "2322         SMEG DARK BROWN PU BLACK GOLD LEG              TNFI1922   \n",
       "2328              SMEG GREEN PU BLACK GOLD LEG              TNFI1922   \n",
       "2329               SMEG GREY PU BLACK GOLD LEG              TNFI1922   \n",
       "2469                               TRONCO BLUE  TNFI1198 && TNFI1944   \n",
       "2470                            TRONCO BLUE UK  TNFI1198 && TNFI1944   \n",
       "2473                          TRONCO GREY LMKZ  TNFI1198 && TNFI1944   \n",
       "2639                       ZANKA BLUE GOLD LEG              TNFI1872   \n",
       "2640                  ZANKA DARK BLUE GOLD LEG              TNFI1872   \n",
       "2642                       ZANKA GREY GOLD LEG              TNFI1872   \n",
       "\n",
       "                           Product Name Category Operation  \n",
       "1357          && LARES 27\"COUNTER STOOL      NaN       初景滝  \n",
       "1899  && ANDROMEDA 3 - PIECE DINING SET      NaN       初景滝  \n",
       "1900                                         NaN       初景滝  \n",
       "1901                                         NaN       初景滝  \n",
       "1902                                         NaN       初景滝  \n",
       "1904                                         NaN       初景滝  \n",
       "2322                                         NaN       初景滝  \n",
       "2328                                         NaN       初景滝  \n",
       "2329                                         NaN       初景滝  \n",
       "2469       && RAFAELA VELVET TASK CHAIR      NaN       奈良井  \n",
       "2470                                         NaN       奈良井  \n",
       "2473       && RAFAELA VELVET TASK CHAIR      NaN       奈良井  \n",
       "2639                                         NaN       初景滝  \n",
       "2640                                         NaN       初景滝  \n",
       "2642                                         NaN       初景滝  "
      ]
     },
     "execution_count": 68,
     "metadata": {},
     "output_type": "execute_result"
    }
   ],
   "source": [
    "a[a['Category'].isnull()]"
   ]
  },
  {
   "cell_type": "code",
   "execution_count": null,
   "metadata": {},
   "outputs": [],
   "source": []
  },
  {
   "cell_type": "code",
   "execution_count": null,
   "metadata": {},
   "outputs": [],
   "source": []
  },
  {
   "cell_type": "code",
   "execution_count": 69,
   "metadata": {
    "ExecuteTime": {
     "end_time": "2021-01-05T01:54:21.638017Z",
     "start_time": "2021-01-05T01:54:21.600493Z"
    }
   },
   "outputs": [
    {
     "data": {
      "text/html": [
       "<div>\n",
       "<style scoped>\n",
       "    .dataframe tbody tr th:only-of-type {\n",
       "        vertical-align: middle;\n",
       "    }\n",
       "\n",
       "    .dataframe tbody tr th {\n",
       "        vertical-align: top;\n",
       "    }\n",
       "\n",
       "    .dataframe thead th {\n",
       "        text-align: right;\n",
       "    }\n",
       "</style>\n",
       "<table border=\"1\" class=\"dataframe\">\n",
       "  <thead>\n",
       "    <tr style=\"text-align: right;\">\n",
       "      <th></th>\n",
       "      <th>Item Number</th>\n",
       "      <th>SKU</th>\n",
       "      <th>Product Name</th>\n",
       "      <th>Category</th>\n",
       "      <th>Operation</th>\n",
       "    </tr>\n",
       "  </thead>\n",
       "  <tbody>\n",
       "    <tr>\n",
       "      <th>584</th>\n",
       "      <td>CIAN BLUE</td>\n",
       "      <td>TNFI1368</td>\n",
       "      <td>ROCHELLE TASK CHAIR</td>\n",
       "      <td>Office Chairs</td>\n",
       "      <td>沙田围</td>\n",
       "    </tr>\n",
       "    <tr>\n",
       "      <th>585</th>\n",
       "      <td>CIAN BLUE A</td>\n",
       "      <td>TNFI1368</td>\n",
       "      <td>ROCHELLE TASK CHAIR</td>\n",
       "      <td>Office Chairs</td>\n",
       "      <td>沙田围</td>\n",
       "    </tr>\n",
       "    <tr>\n",
       "      <th>586</th>\n",
       "      <td>CIAN BLUE I</td>\n",
       "      <td>TNFI1368</td>\n",
       "      <td>ROCHELLE TASK CHAIR</td>\n",
       "      <td>Office Chairs</td>\n",
       "      <td>沙田围</td>\n",
       "    </tr>\n",
       "    <tr>\n",
       "      <th>587</th>\n",
       "      <td>CIAN GREEN</td>\n",
       "      <td>TNFI1368</td>\n",
       "      <td>ROCHELLE TASK CHAIR</td>\n",
       "      <td>Office Chairs</td>\n",
       "      <td>沙田围</td>\n",
       "    </tr>\n",
       "    <tr>\n",
       "      <th>588</th>\n",
       "      <td>CIAN GREEN A</td>\n",
       "      <td>TNFI1368</td>\n",
       "      <td>ROCHELLE TASK CHAIR</td>\n",
       "      <td>Office Chairs</td>\n",
       "      <td>沙田围</td>\n",
       "    </tr>\n",
       "    <tr>\n",
       "      <th>589</th>\n",
       "      <td>CIAN GREEN I</td>\n",
       "      <td>TNFI1368</td>\n",
       "      <td>ROCHELLE TASK CHAIR</td>\n",
       "      <td>Office Chairs</td>\n",
       "      <td>沙田围</td>\n",
       "    </tr>\n",
       "    <tr>\n",
       "      <th>590</th>\n",
       "      <td>CIAN GREY</td>\n",
       "      <td>TNFI1368</td>\n",
       "      <td>ROCHELLE TASK CHAIR</td>\n",
       "      <td>Office Chairs</td>\n",
       "      <td>沙田围</td>\n",
       "    </tr>\n",
       "    <tr>\n",
       "      <th>591</th>\n",
       "      <td>CIAN GREY A</td>\n",
       "      <td>TNFI1368</td>\n",
       "      <td>ROCHELLE TASK CHAIR</td>\n",
       "      <td>Office Chairs</td>\n",
       "      <td>沙田围</td>\n",
       "    </tr>\n",
       "    <tr>\n",
       "      <th>592</th>\n",
       "      <td>CIAN GREY I</td>\n",
       "      <td>TNFI1368</td>\n",
       "      <td>ROCHELLE TASK CHAIR</td>\n",
       "      <td>Office Chairs</td>\n",
       "      <td>沙田围</td>\n",
       "    </tr>\n",
       "    <tr>\n",
       "      <th>593</th>\n",
       "      <td>CIAN ROSE</td>\n",
       "      <td>TNFI1368</td>\n",
       "      <td>ROCHELLE TASK CHAIR</td>\n",
       "      <td>Office Chairs</td>\n",
       "      <td>沙田围</td>\n",
       "    </tr>\n",
       "    <tr>\n",
       "      <th>594</th>\n",
       "      <td>CIAN ROSE A</td>\n",
       "      <td>TNFI1368</td>\n",
       "      <td>ROCHELLE TASK CHAIR</td>\n",
       "      <td>Office Chairs</td>\n",
       "      <td>沙田围</td>\n",
       "    </tr>\n",
       "    <tr>\n",
       "      <th>595</th>\n",
       "      <td>CIAN ROSE I</td>\n",
       "      <td>TNFI1368</td>\n",
       "      <td>ROCHELLE TASK CHAIR</td>\n",
       "      <td>Office Chairs</td>\n",
       "      <td>沙田围</td>\n",
       "    </tr>\n",
       "  </tbody>\n",
       "</table>\n",
       "</div>"
      ],
      "text/plain": [
       "      Item Number       SKU         Product Name       Category Operation\n",
       "584     CIAN BLUE  TNFI1368  ROCHELLE TASK CHAIR  Office Chairs       沙田围\n",
       "585   CIAN BLUE A  TNFI1368  ROCHELLE TASK CHAIR  Office Chairs       沙田围\n",
       "586   CIAN BLUE I  TNFI1368  ROCHELLE TASK CHAIR  Office Chairs       沙田围\n",
       "587    CIAN GREEN  TNFI1368  ROCHELLE TASK CHAIR  Office Chairs       沙田围\n",
       "588  CIAN GREEN A  TNFI1368  ROCHELLE TASK CHAIR  Office Chairs       沙田围\n",
       "589  CIAN GREEN I  TNFI1368  ROCHELLE TASK CHAIR  Office Chairs       沙田围\n",
       "590     CIAN GREY  TNFI1368  ROCHELLE TASK CHAIR  Office Chairs       沙田围\n",
       "591   CIAN GREY A  TNFI1368  ROCHELLE TASK CHAIR  Office Chairs       沙田围\n",
       "592   CIAN GREY I  TNFI1368  ROCHELLE TASK CHAIR  Office Chairs       沙田围\n",
       "593     CIAN ROSE  TNFI1368  ROCHELLE TASK CHAIR  Office Chairs       沙田围\n",
       "594   CIAN ROSE A  TNFI1368  ROCHELLE TASK CHAIR  Office Chairs       沙田围\n",
       "595   CIAN ROSE I  TNFI1368  ROCHELLE TASK CHAIR  Office Chairs       沙田围"
      ]
     },
     "execution_count": 69,
     "metadata": {},
     "output_type": "execute_result"
    }
   ],
   "source": [
    "df_itemset[df_itemset['SKU'] == 'TNFI1368']"
   ]
  },
  {
   "cell_type": "code",
   "execution_count": 70,
   "metadata": {
    "ExecuteTime": {
     "end_time": "2021-01-05T01:54:21.661063Z",
     "start_time": "2021-01-05T01:54:21.643922Z"
    }
   },
   "outputs": [],
   "source": [
    "k = {'Item Number': ['SLIP GLASS Ⅰ', 'MCGHEE 246T PLUS', 'CIAN GREY Ⅰ', 'CIAN BLUE Ⅰ', 'CIAN GREEN Ⅰ', \n",
    "                     'RICO WHITE 6PCS RF'], \n",
    "     \n",
    "     'SKU': ['TNFI1669', 'TNFI1795', 'TNFI1368', 'TNFI1368', 'TNFI1368', 'TNFI2232'], \n",
    "     \n",
    "     'Product Name': ['FORRESTER DINING TABLE', 'TANVEER DESK', 'ROCHELLE TASK CHAIR', 'ROCHELLE TASK CHAIR', 'ROCHELLE TASK CHAIR',\n",
    "                      'SHAMBLIN 7 - PIECE DINING SET']}"
   ]
  },
  {
   "cell_type": "code",
   "execution_count": 71,
   "metadata": {
    "ExecuteTime": {
     "end_time": "2021-01-05T01:54:21.698225Z",
     "start_time": "2021-01-05T01:54:21.661063Z"
    }
   },
   "outputs": [
    {
     "data": {
      "text/html": [
       "<div>\n",
       "<style scoped>\n",
       "    .dataframe tbody tr th:only-of-type {\n",
       "        vertical-align: middle;\n",
       "    }\n",
       "\n",
       "    .dataframe tbody tr th {\n",
       "        vertical-align: top;\n",
       "    }\n",
       "\n",
       "    .dataframe thead th {\n",
       "        text-align: right;\n",
       "    }\n",
       "</style>\n",
       "<table border=\"1\" class=\"dataframe\">\n",
       "  <thead>\n",
       "    <tr style=\"text-align: right;\">\n",
       "      <th></th>\n",
       "      <th>Item Number</th>\n",
       "      <th>SKU</th>\n",
       "      <th>Product Name</th>\n",
       "    </tr>\n",
       "  </thead>\n",
       "  <tbody>\n",
       "    <tr>\n",
       "      <th>0</th>\n",
       "      <td>SLIP GLASS Ⅰ</td>\n",
       "      <td>TNFI1669</td>\n",
       "      <td>FORRESTER DINING TABLE</td>\n",
       "    </tr>\n",
       "    <tr>\n",
       "      <th>1</th>\n",
       "      <td>MCGHEE 246T PLUS</td>\n",
       "      <td>TNFI1795</td>\n",
       "      <td>TANVEER DESK</td>\n",
       "    </tr>\n",
       "    <tr>\n",
       "      <th>2</th>\n",
       "      <td>CIAN GREY Ⅰ</td>\n",
       "      <td>TNFI1368</td>\n",
       "      <td>ROCHELLE TASK CHAIR</td>\n",
       "    </tr>\n",
       "    <tr>\n",
       "      <th>3</th>\n",
       "      <td>CIAN BLUE Ⅰ</td>\n",
       "      <td>TNFI1368</td>\n",
       "      <td>ROCHELLE TASK CHAIR</td>\n",
       "    </tr>\n",
       "    <tr>\n",
       "      <th>4</th>\n",
       "      <td>CIAN GREEN Ⅰ</td>\n",
       "      <td>TNFI1368</td>\n",
       "      <td>ROCHELLE TASK CHAIR</td>\n",
       "    </tr>\n",
       "    <tr>\n",
       "      <th>5</th>\n",
       "      <td>RICO WHITE 6PCS RF</td>\n",
       "      <td>TNFI2232</td>\n",
       "      <td>SHAMBLIN 7 - PIECE DINING SET</td>\n",
       "    </tr>\n",
       "  </tbody>\n",
       "</table>\n",
       "</div>"
      ],
      "text/plain": [
       "          Item Number       SKU                   Product Name\n",
       "0        SLIP GLASS Ⅰ  TNFI1669         FORRESTER DINING TABLE\n",
       "1    MCGHEE 246T PLUS  TNFI1795                   TANVEER DESK\n",
       "2         CIAN GREY Ⅰ  TNFI1368            ROCHELLE TASK CHAIR\n",
       "3         CIAN BLUE Ⅰ  TNFI1368            ROCHELLE TASK CHAIR\n",
       "4        CIAN GREEN Ⅰ  TNFI1368            ROCHELLE TASK CHAIR\n",
       "5  RICO WHITE 6PCS RF  TNFI2232  SHAMBLIN 7 - PIECE DINING SET"
      ]
     },
     "execution_count": 71,
     "metadata": {},
     "output_type": "execute_result"
    }
   ],
   "source": [
    "pd.DataFrame(k)"
   ]
  },
  {
   "cell_type": "code",
   "execution_count": null,
   "metadata": {},
   "outputs": [],
   "source": []
  },
  {
   "cell_type": "code",
   "execution_count": 72,
   "metadata": {
    "ExecuteTime": {
     "end_time": "2021-01-05T01:54:21.794258Z",
     "start_time": "2021-01-05T01:54:21.700248Z"
    },
    "scrolled": true
   },
   "outputs": [
    {
     "data": {
      "text/html": [
       "<div>\n",
       "<style scoped>\n",
       "    .dataframe tbody tr th:only-of-type {\n",
       "        vertical-align: middle;\n",
       "    }\n",
       "\n",
       "    .dataframe tbody tr th {\n",
       "        vertical-align: top;\n",
       "    }\n",
       "\n",
       "    .dataframe thead th {\n",
       "        text-align: right;\n",
       "    }\n",
       "</style>\n",
       "<table border=\"1\" class=\"dataframe\">\n",
       "  <thead>\n",
       "    <tr style=\"text-align: right;\">\n",
       "      <th></th>\n",
       "      <th>Country</th>\n",
       "      <th>Item Number</th>\n",
       "      <th>Category_x</th>\n",
       "      <th>Operation detail</th>\n",
       "      <th>Department-4</th>\n",
       "      <th>CBM</th>\n",
       "      <th>FOB-City</th>\n",
       "      <th>platform</th>\n",
       "      <th>Factory</th>\n",
       "      <th>warehouse detail</th>\n",
       "      <th>InvBal-Qty</th>\n",
       "      <th>Warehouse</th>\n",
       "      <th>SKU</th>\n",
       "      <th>Product Name</th>\n",
       "      <th>Category_y</th>\n",
       "      <th>Operation</th>\n",
       "    </tr>\n",
       "  </thead>\n",
       "  <tbody>\n",
       "    <tr>\n",
       "      <th>13241</th>\n",
       "      <td>CA</td>\n",
       "      <td>MCGHEE 246T PLUS</td>\n",
       "      <td>Board with Metal Desk</td>\n",
       "      <td>曾厝垵_39FINC</td>\n",
       "      <td>太华天街</td>\n",
       "      <td>0.093</td>\n",
       "      <td>南京</td>\n",
       "      <td>ZCA_ANN_39FINC</td>\n",
       "      <td>安徽菲雷克斯科技发展有限公司</td>\n",
       "      <td>仓1</td>\n",
       "      <td>361.0</td>\n",
       "      <td>5. WH-Arrival</td>\n",
       "      <td>TNFI1795</td>\n",
       "      <td>TANVEER DESK</td>\n",
       "      <td>Desks</td>\n",
       "      <td>深水埗</td>\n",
       "    </tr>\n",
       "    <tr>\n",
       "      <th>13242</th>\n",
       "      <td>CA</td>\n",
       "      <td>MCGHEE 246T PLUS</td>\n",
       "      <td>Board with Metal Desk</td>\n",
       "      <td>青荇渡_39FINC</td>\n",
       "      <td>太华天街</td>\n",
       "      <td>0.093</td>\n",
       "      <td>南京</td>\n",
       "      <td>QXD_39FINC</td>\n",
       "      <td>安徽菲雷克斯科技发展有限公司</td>\n",
       "      <td>仓1</td>\n",
       "      <td>836.0</td>\n",
       "      <td>5. WH-Arrival</td>\n",
       "      <td>TNFI1795</td>\n",
       "      <td>TANVEER DESK</td>\n",
       "      <td>Desks</td>\n",
       "      <td>深水埗</td>\n",
       "    </tr>\n",
       "    <tr>\n",
       "      <th>13244</th>\n",
       "      <td>CA</td>\n",
       "      <td>MCGHEE 246T PLUS</td>\n",
       "      <td>Board with Metal Desk</td>\n",
       "      <td>鰂鱼涌</td>\n",
       "      <td>太华天街</td>\n",
       "      <td>0.093</td>\n",
       "      <td>南京</td>\n",
       "      <td>ZYC_AMAZON_39FINC</td>\n",
       "      <td>安徽菲雷克斯科技发展有限公司</td>\n",
       "      <td>仓1</td>\n",
       "      <td>79.0</td>\n",
       "      <td>5. WH-Arrival</td>\n",
       "      <td>TNFI1795</td>\n",
       "      <td>TANVEER DESK</td>\n",
       "      <td>Desks</td>\n",
       "      <td>深水埗</td>\n",
       "    </tr>\n",
       "  </tbody>\n",
       "</table>\n",
       "</div>"
      ],
      "text/plain": [
       "      Country       Item Number             Category_x Operation detail  \\\n",
       "13241      CA  MCGHEE 246T PLUS  Board with Metal Desk       曾厝垵_39FINC   \n",
       "13242      CA  MCGHEE 246T PLUS  Board with Metal Desk       青荇渡_39FINC   \n",
       "13244      CA  MCGHEE 246T PLUS  Board with Metal Desk              鰂鱼涌   \n",
       "\n",
       "      Department-4    CBM FOB-City           platform         Factory  \\\n",
       "13241         太华天街  0.093       南京     ZCA_ANN_39FINC  安徽菲雷克斯科技发展有限公司   \n",
       "13242         太华天街  0.093       南京         QXD_39FINC  安徽菲雷克斯科技发展有限公司   \n",
       "13244         太华天街  0.093       南京  ZYC_AMAZON_39FINC  安徽菲雷克斯科技发展有限公司   \n",
       "\n",
       "      warehouse detail  InvBal-Qty      Warehouse       SKU  Product Name  \\\n",
       "13241               仓1       361.0  5. WH-Arrival  TNFI1795  TANVEER DESK   \n",
       "13242               仓1       836.0  5. WH-Arrival  TNFI1795  TANVEER DESK   \n",
       "13244               仓1        79.0  5. WH-Arrival  TNFI1795  TANVEER DESK   \n",
       "\n",
       "      Category_y Operation  \n",
       "13241      Desks       深水埗  \n",
       "13242      Desks       深水埗  \n",
       "13244      Desks       深水埗  "
      ]
     },
     "execution_count": 72,
     "metadata": {},
     "output_type": "execute_result"
    }
   ],
   "source": [
    "k = df_wh[df_wh['Country'] == 'CA']\n",
    "k = k[k['Department-4'] == '太华天街']\n",
    "k = k[k['Item Number'] == 'MCGHEE 246T PLUS'] \n",
    "k = k[k['Warehouse'] == '5. WH-Arrival']\n",
    "\n",
    "k"
   ]
  }
 ],
 "metadata": {
  "kernelspec": {
   "display_name": "Python 3",
   "language": "python",
   "name": "python3"
  },
  "language_info": {
   "codemirror_mode": {
    "name": "ipython",
    "version": 3
   },
   "file_extension": ".py",
   "mimetype": "text/x-python",
   "name": "python",
   "nbconvert_exporter": "python",
   "pygments_lexer": "ipython3",
   "version": "3.8.3"
  },
  "varInspector": {
   "cols": {
    "lenName": 16,
    "lenType": 16,
    "lenVar": 40
   },
   "kernels_config": {
    "python": {
     "delete_cmd_postfix": "",
     "delete_cmd_prefix": "del ",
     "library": "var_list.py",
     "varRefreshCmd": "print(var_dic_list())"
    },
    "r": {
     "delete_cmd_postfix": ") ",
     "delete_cmd_prefix": "rm(",
     "library": "var_list.r",
     "varRefreshCmd": "cat(var_dic_list()) "
    }
   },
   "types_to_exclude": [
    "module",
    "function",
    "builtin_function_or_method",
    "instance",
    "_Feature"
   ],
   "window_display": false
  }
 },
 "nbformat": 4,
 "nbformat_minor": 4
}
